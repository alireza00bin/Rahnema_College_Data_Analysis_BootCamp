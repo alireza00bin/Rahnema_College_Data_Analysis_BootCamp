{
  "nbformat": 4,
  "nbformat_minor": 0,
  "metadata": {
    "colab": {
      "provenance": []
    },
    "kernelspec": {
      "name": "python3",
      "display_name": "Python 3"
    },
    "language_info": {
      "name": "python"
    }
  },
  "cells": [
    {
      "cell_type": "markdown",
      "source": [
        "## Import Essential Libraries"
      ],
      "metadata": {
        "id": "20GJZZ3NsU-X"
      }
    },
    {
      "cell_type": "code",
      "execution_count": 1,
      "metadata": {
        "id": "-87bhDT25_kp"
      },
      "outputs": [],
      "source": [
        "import numpy as np\n",
        "import pandas as pd\n",
        "import matplotlib.pyplot as plt\n",
        "import seaborn as sn"
      ]
    },
    {
      "cell_type": "markdown",
      "source": [
        "## Mount Google Drive"
      ],
      "metadata": {
        "id": "TvJFQlTZsX5f"
      }
    },
    {
      "cell_type": "code",
      "source": [
        "from google.colab import drive\n",
        "drive.mount('drive')"
      ],
      "metadata": {
        "colab": {
          "base_uri": "https://localhost:8080/"
        },
        "id": "ic4NhEqw6Qy_",
        "outputId": "cb991ba6-08e6-4e81-d03a-3a5a12ac0446"
      },
      "execution_count": 2,
      "outputs": [
        {
          "output_type": "stream",
          "name": "stdout",
          "text": [
            "Mounted at drive\n"
          ]
        }
      ]
    },
    {
      "cell_type": "code",
      "source": [
        "df = pd.read_csv('/content/drive/MyDrive/Colab Notebooks/Interview/Used Cars Data.csv')\n",
        "df.head()"
      ],
      "metadata": {
        "colab": {
          "base_uri": "https://localhost:8080/",
          "height": 296
        },
        "id": "0LFH7oyy6wLy",
        "outputId": "622e9a83-baf7-4ae1-a346-8905ef0eb78c"
      },
      "execution_count": 3,
      "outputs": [
        {
          "output_type": "execute_result",
          "data": {
            "text/plain": [
              "   Column1  listing_id listed_date      city manufacturer            model  \\\n",
              "0        0   237132766    4/6/2019   Bayamon         Jeep         Renegade   \n",
              "1        1   265946296   2/15/2020  San Juan   Land Rover  Discovery Sport   \n",
              "2        2   173473508   4/25/2017  Guaynabo       Subaru          WRX STI   \n",
              "3        3   266911050   2/26/2020  San Juan   Land Rover        Discovery   \n",
              "4        4   270957414   4/25/2020  San Juan   Land Rover  Discovery Sport   \n",
              "\n",
              "   year    color  price        body_type  engine_volume_cc  fuel_consumption  \\\n",
              "0  2019   YELLOW  23141  SUV / Crossover            1300.0               NaN   \n",
              "1  2020    BLACK  46500  SUV / Crossover            2000.0               NaN   \n",
              "2  2016  UNKNOWN  46995            Sedan            2500.0              20.0   \n",
              "3  2020     GRAY  67430  SUV / Crossover            3000.0               NaN   \n",
              "4  2020    BLACK  48880  SUV / Crossover            2000.0               NaN   \n",
              "\n",
              "  fuel_type  is_new maximum_seating  mileage  horsepower transmission  \\\n",
              "0  Gasoline       1         5 seats      7.0       177.0            A   \n",
              "1  Gasoline       1         7 seats      8.0       246.0            A   \n",
              "2  Gasoline       0         5 seats      NaN       305.0            M   \n",
              "3  Gasoline       1         7 seats     11.0       340.0            A   \n",
              "4  Gasoline       1         7 seats      7.0       246.0            A   \n",
              "\n",
              "   has_accidents  days_on_market  \n",
              "0            NaN             522  \n",
              "1            NaN             207  \n",
              "2            0.0            1233  \n",
              "3            NaN             196  \n",
              "4            NaN             137  "
            ],
            "text/html": [
              "\n",
              "  <div id=\"df-565704b0-0c0d-4a08-b6da-cd2200505637\" class=\"colab-df-container\">\n",
              "    <div>\n",
              "<style scoped>\n",
              "    .dataframe tbody tr th:only-of-type {\n",
              "        vertical-align: middle;\n",
              "    }\n",
              "\n",
              "    .dataframe tbody tr th {\n",
              "        vertical-align: top;\n",
              "    }\n",
              "\n",
              "    .dataframe thead th {\n",
              "        text-align: right;\n",
              "    }\n",
              "</style>\n",
              "<table border=\"1\" class=\"dataframe\">\n",
              "  <thead>\n",
              "    <tr style=\"text-align: right;\">\n",
              "      <th></th>\n",
              "      <th>Column1</th>\n",
              "      <th>listing_id</th>\n",
              "      <th>listed_date</th>\n",
              "      <th>city</th>\n",
              "      <th>manufacturer</th>\n",
              "      <th>model</th>\n",
              "      <th>year</th>\n",
              "      <th>color</th>\n",
              "      <th>price</th>\n",
              "      <th>body_type</th>\n",
              "      <th>engine_volume_cc</th>\n",
              "      <th>fuel_consumption</th>\n",
              "      <th>fuel_type</th>\n",
              "      <th>is_new</th>\n",
              "      <th>maximum_seating</th>\n",
              "      <th>mileage</th>\n",
              "      <th>horsepower</th>\n",
              "      <th>transmission</th>\n",
              "      <th>has_accidents</th>\n",
              "      <th>days_on_market</th>\n",
              "    </tr>\n",
              "  </thead>\n",
              "  <tbody>\n",
              "    <tr>\n",
              "      <th>0</th>\n",
              "      <td>0</td>\n",
              "      <td>237132766</td>\n",
              "      <td>4/6/2019</td>\n",
              "      <td>Bayamon</td>\n",
              "      <td>Jeep</td>\n",
              "      <td>Renegade</td>\n",
              "      <td>2019</td>\n",
              "      <td>YELLOW</td>\n",
              "      <td>23141</td>\n",
              "      <td>SUV / Crossover</td>\n",
              "      <td>1300.0</td>\n",
              "      <td>NaN</td>\n",
              "      <td>Gasoline</td>\n",
              "      <td>1</td>\n",
              "      <td>5 seats</td>\n",
              "      <td>7.0</td>\n",
              "      <td>177.0</td>\n",
              "      <td>A</td>\n",
              "      <td>NaN</td>\n",
              "      <td>522</td>\n",
              "    </tr>\n",
              "    <tr>\n",
              "      <th>1</th>\n",
              "      <td>1</td>\n",
              "      <td>265946296</td>\n",
              "      <td>2/15/2020</td>\n",
              "      <td>San Juan</td>\n",
              "      <td>Land Rover</td>\n",
              "      <td>Discovery Sport</td>\n",
              "      <td>2020</td>\n",
              "      <td>BLACK</td>\n",
              "      <td>46500</td>\n",
              "      <td>SUV / Crossover</td>\n",
              "      <td>2000.0</td>\n",
              "      <td>NaN</td>\n",
              "      <td>Gasoline</td>\n",
              "      <td>1</td>\n",
              "      <td>7 seats</td>\n",
              "      <td>8.0</td>\n",
              "      <td>246.0</td>\n",
              "      <td>A</td>\n",
              "      <td>NaN</td>\n",
              "      <td>207</td>\n",
              "    </tr>\n",
              "    <tr>\n",
              "      <th>2</th>\n",
              "      <td>2</td>\n",
              "      <td>173473508</td>\n",
              "      <td>4/25/2017</td>\n",
              "      <td>Guaynabo</td>\n",
              "      <td>Subaru</td>\n",
              "      <td>WRX STI</td>\n",
              "      <td>2016</td>\n",
              "      <td>UNKNOWN</td>\n",
              "      <td>46995</td>\n",
              "      <td>Sedan</td>\n",
              "      <td>2500.0</td>\n",
              "      <td>20.0</td>\n",
              "      <td>Gasoline</td>\n",
              "      <td>0</td>\n",
              "      <td>5 seats</td>\n",
              "      <td>NaN</td>\n",
              "      <td>305.0</td>\n",
              "      <td>M</td>\n",
              "      <td>0.0</td>\n",
              "      <td>1233</td>\n",
              "    </tr>\n",
              "    <tr>\n",
              "      <th>3</th>\n",
              "      <td>3</td>\n",
              "      <td>266911050</td>\n",
              "      <td>2/26/2020</td>\n",
              "      <td>San Juan</td>\n",
              "      <td>Land Rover</td>\n",
              "      <td>Discovery</td>\n",
              "      <td>2020</td>\n",
              "      <td>GRAY</td>\n",
              "      <td>67430</td>\n",
              "      <td>SUV / Crossover</td>\n",
              "      <td>3000.0</td>\n",
              "      <td>NaN</td>\n",
              "      <td>Gasoline</td>\n",
              "      <td>1</td>\n",
              "      <td>7 seats</td>\n",
              "      <td>11.0</td>\n",
              "      <td>340.0</td>\n",
              "      <td>A</td>\n",
              "      <td>NaN</td>\n",
              "      <td>196</td>\n",
              "    </tr>\n",
              "    <tr>\n",
              "      <th>4</th>\n",
              "      <td>4</td>\n",
              "      <td>270957414</td>\n",
              "      <td>4/25/2020</td>\n",
              "      <td>San Juan</td>\n",
              "      <td>Land Rover</td>\n",
              "      <td>Discovery Sport</td>\n",
              "      <td>2020</td>\n",
              "      <td>BLACK</td>\n",
              "      <td>48880</td>\n",
              "      <td>SUV / Crossover</td>\n",
              "      <td>2000.0</td>\n",
              "      <td>NaN</td>\n",
              "      <td>Gasoline</td>\n",
              "      <td>1</td>\n",
              "      <td>7 seats</td>\n",
              "      <td>7.0</td>\n",
              "      <td>246.0</td>\n",
              "      <td>A</td>\n",
              "      <td>NaN</td>\n",
              "      <td>137</td>\n",
              "    </tr>\n",
              "  </tbody>\n",
              "</table>\n",
              "</div>\n",
              "    <div class=\"colab-df-buttons\">\n",
              "\n",
              "  <div class=\"colab-df-container\">\n",
              "    <button class=\"colab-df-convert\" onclick=\"convertToInteractive('df-565704b0-0c0d-4a08-b6da-cd2200505637')\"\n",
              "            title=\"Convert this dataframe to an interactive table.\"\n",
              "            style=\"display:none;\">\n",
              "\n",
              "  <svg xmlns=\"http://www.w3.org/2000/svg\" height=\"24px\" viewBox=\"0 -960 960 960\">\n",
              "    <path d=\"M120-120v-720h720v720H120Zm60-500h600v-160H180v160Zm220 220h160v-160H400v160Zm0 220h160v-160H400v160ZM180-400h160v-160H180v160Zm440 0h160v-160H620v160ZM180-180h160v-160H180v160Zm440 0h160v-160H620v160Z\"/>\n",
              "  </svg>\n",
              "    </button>\n",
              "\n",
              "  <style>\n",
              "    .colab-df-container {\n",
              "      display:flex;\n",
              "      gap: 12px;\n",
              "    }\n",
              "\n",
              "    .colab-df-convert {\n",
              "      background-color: #E8F0FE;\n",
              "      border: none;\n",
              "      border-radius: 50%;\n",
              "      cursor: pointer;\n",
              "      display: none;\n",
              "      fill: #1967D2;\n",
              "      height: 32px;\n",
              "      padding: 0 0 0 0;\n",
              "      width: 32px;\n",
              "    }\n",
              "\n",
              "    .colab-df-convert:hover {\n",
              "      background-color: #E2EBFA;\n",
              "      box-shadow: 0px 1px 2px rgba(60, 64, 67, 0.3), 0px 1px 3px 1px rgba(60, 64, 67, 0.15);\n",
              "      fill: #174EA6;\n",
              "    }\n",
              "\n",
              "    .colab-df-buttons div {\n",
              "      margin-bottom: 4px;\n",
              "    }\n",
              "\n",
              "    [theme=dark] .colab-df-convert {\n",
              "      background-color: #3B4455;\n",
              "      fill: #D2E3FC;\n",
              "    }\n",
              "\n",
              "    [theme=dark] .colab-df-convert:hover {\n",
              "      background-color: #434B5C;\n",
              "      box-shadow: 0px 1px 3px 1px rgba(0, 0, 0, 0.15);\n",
              "      filter: drop-shadow(0px 1px 2px rgba(0, 0, 0, 0.3));\n",
              "      fill: #FFFFFF;\n",
              "    }\n",
              "  </style>\n",
              "\n",
              "    <script>\n",
              "      const buttonEl =\n",
              "        document.querySelector('#df-565704b0-0c0d-4a08-b6da-cd2200505637 button.colab-df-convert');\n",
              "      buttonEl.style.display =\n",
              "        google.colab.kernel.accessAllowed ? 'block' : 'none';\n",
              "\n",
              "      async function convertToInteractive(key) {\n",
              "        const element = document.querySelector('#df-565704b0-0c0d-4a08-b6da-cd2200505637');\n",
              "        const dataTable =\n",
              "          await google.colab.kernel.invokeFunction('convertToInteractive',\n",
              "                                                    [key], {});\n",
              "        if (!dataTable) return;\n",
              "\n",
              "        const docLinkHtml = 'Like what you see? Visit the ' +\n",
              "          '<a target=\"_blank\" href=https://colab.research.google.com/notebooks/data_table.ipynb>data table notebook</a>'\n",
              "          + ' to learn more about interactive tables.';\n",
              "        element.innerHTML = '';\n",
              "        dataTable['output_type'] = 'display_data';\n",
              "        await google.colab.output.renderOutput(dataTable, element);\n",
              "        const docLink = document.createElement('div');\n",
              "        docLink.innerHTML = docLinkHtml;\n",
              "        element.appendChild(docLink);\n",
              "      }\n",
              "    </script>\n",
              "  </div>\n",
              "\n",
              "\n",
              "<div id=\"df-a8dde7dd-824a-4b8f-b044-9f2ea80698fb\">\n",
              "  <button class=\"colab-df-quickchart\" onclick=\"quickchart('df-a8dde7dd-824a-4b8f-b044-9f2ea80698fb')\"\n",
              "            title=\"Suggest charts\"\n",
              "            style=\"display:none;\">\n",
              "\n",
              "<svg xmlns=\"http://www.w3.org/2000/svg\" height=\"24px\"viewBox=\"0 0 24 24\"\n",
              "     width=\"24px\">\n",
              "    <g>\n",
              "        <path d=\"M19 3H5c-1.1 0-2 .9-2 2v14c0 1.1.9 2 2 2h14c1.1 0 2-.9 2-2V5c0-1.1-.9-2-2-2zM9 17H7v-7h2v7zm4 0h-2V7h2v10zm4 0h-2v-4h2v4z\"/>\n",
              "    </g>\n",
              "</svg>\n",
              "  </button>\n",
              "\n",
              "<style>\n",
              "  .colab-df-quickchart {\n",
              "      --bg-color: #E8F0FE;\n",
              "      --fill-color: #1967D2;\n",
              "      --hover-bg-color: #E2EBFA;\n",
              "      --hover-fill-color: #174EA6;\n",
              "      --disabled-fill-color: #AAA;\n",
              "      --disabled-bg-color: #DDD;\n",
              "  }\n",
              "\n",
              "  [theme=dark] .colab-df-quickchart {\n",
              "      --bg-color: #3B4455;\n",
              "      --fill-color: #D2E3FC;\n",
              "      --hover-bg-color: #434B5C;\n",
              "      --hover-fill-color: #FFFFFF;\n",
              "      --disabled-bg-color: #3B4455;\n",
              "      --disabled-fill-color: #666;\n",
              "  }\n",
              "\n",
              "  .colab-df-quickchart {\n",
              "    background-color: var(--bg-color);\n",
              "    border: none;\n",
              "    border-radius: 50%;\n",
              "    cursor: pointer;\n",
              "    display: none;\n",
              "    fill: var(--fill-color);\n",
              "    height: 32px;\n",
              "    padding: 0;\n",
              "    width: 32px;\n",
              "  }\n",
              "\n",
              "  .colab-df-quickchart:hover {\n",
              "    background-color: var(--hover-bg-color);\n",
              "    box-shadow: 0 1px 2px rgba(60, 64, 67, 0.3), 0 1px 3px 1px rgba(60, 64, 67, 0.15);\n",
              "    fill: var(--button-hover-fill-color);\n",
              "  }\n",
              "\n",
              "  .colab-df-quickchart-complete:disabled,\n",
              "  .colab-df-quickchart-complete:disabled:hover {\n",
              "    background-color: var(--disabled-bg-color);\n",
              "    fill: var(--disabled-fill-color);\n",
              "    box-shadow: none;\n",
              "  }\n",
              "\n",
              "  .colab-df-spinner {\n",
              "    border: 2px solid var(--fill-color);\n",
              "    border-color: transparent;\n",
              "    border-bottom-color: var(--fill-color);\n",
              "    animation:\n",
              "      spin 1s steps(1) infinite;\n",
              "  }\n",
              "\n",
              "  @keyframes spin {\n",
              "    0% {\n",
              "      border-color: transparent;\n",
              "      border-bottom-color: var(--fill-color);\n",
              "      border-left-color: var(--fill-color);\n",
              "    }\n",
              "    20% {\n",
              "      border-color: transparent;\n",
              "      border-left-color: var(--fill-color);\n",
              "      border-top-color: var(--fill-color);\n",
              "    }\n",
              "    30% {\n",
              "      border-color: transparent;\n",
              "      border-left-color: var(--fill-color);\n",
              "      border-top-color: var(--fill-color);\n",
              "      border-right-color: var(--fill-color);\n",
              "    }\n",
              "    40% {\n",
              "      border-color: transparent;\n",
              "      border-right-color: var(--fill-color);\n",
              "      border-top-color: var(--fill-color);\n",
              "    }\n",
              "    60% {\n",
              "      border-color: transparent;\n",
              "      border-right-color: var(--fill-color);\n",
              "    }\n",
              "    80% {\n",
              "      border-color: transparent;\n",
              "      border-right-color: var(--fill-color);\n",
              "      border-bottom-color: var(--fill-color);\n",
              "    }\n",
              "    90% {\n",
              "      border-color: transparent;\n",
              "      border-bottom-color: var(--fill-color);\n",
              "    }\n",
              "  }\n",
              "</style>\n",
              "\n",
              "  <script>\n",
              "    async function quickchart(key) {\n",
              "      const quickchartButtonEl =\n",
              "        document.querySelector('#' + key + ' button');\n",
              "      quickchartButtonEl.disabled = true;  // To prevent multiple clicks.\n",
              "      quickchartButtonEl.classList.add('colab-df-spinner');\n",
              "      try {\n",
              "        const charts = await google.colab.kernel.invokeFunction(\n",
              "            'suggestCharts', [key], {});\n",
              "      } catch (error) {\n",
              "        console.error('Error during call to suggestCharts:', error);\n",
              "      }\n",
              "      quickchartButtonEl.classList.remove('colab-df-spinner');\n",
              "      quickchartButtonEl.classList.add('colab-df-quickchart-complete');\n",
              "    }\n",
              "    (() => {\n",
              "      let quickchartButtonEl =\n",
              "        document.querySelector('#df-a8dde7dd-824a-4b8f-b044-9f2ea80698fb button');\n",
              "      quickchartButtonEl.style.display =\n",
              "        google.colab.kernel.accessAllowed ? 'block' : 'none';\n",
              "    })();\n",
              "  </script>\n",
              "</div>\n",
              "    </div>\n",
              "  </div>\n"
            ],
            "application/vnd.google.colaboratory.intrinsic+json": {
              "type": "dataframe",
              "variable_name": "df"
            }
          },
          "metadata": {},
          "execution_count": 3
        }
      ]
    },
    {
      "cell_type": "code",
      "source": [
        "print(df.columns)"
      ],
      "metadata": {
        "colab": {
          "base_uri": "https://localhost:8080/"
        },
        "id": "v7emzOTd7AfH",
        "outputId": "a1cbfe8d-10c5-4fc6-b93e-1d384aff66c3"
      },
      "execution_count": 4,
      "outputs": [
        {
          "output_type": "stream",
          "name": "stdout",
          "text": [
            "Index(['Column1', 'listing_id', 'listed_date', 'city', 'manufacturer', 'model',\n",
            "       'year', 'color', 'price', 'body_type', 'engine_volume_cc',\n",
            "       'fuel_consumption', 'fuel_type', 'is_new', 'maximum_seating', 'mileage',\n",
            "       'horsepower', 'transmission', 'has_accidents', 'days_on_market'],\n",
            "      dtype='object')\n"
          ]
        }
      ]
    },
    {
      "cell_type": "code",
      "source": [
        "df.isnull().sum()"
      ],
      "metadata": {
        "colab": {
          "base_uri": "https://localhost:8080/"
        },
        "id": "L7f2GOJi7P-D",
        "outputId": "3851c148-8123-4851-d0cf-16ec110ae11c"
      },
      "execution_count": 5,
      "outputs": [
        {
          "output_type": "execute_result",
          "data": {
            "text/plain": [
              "Column1                  0\n",
              "listing_id               0\n",
              "listed_date              0\n",
              "city                     0\n",
              "manufacturer             0\n",
              "model                    0\n",
              "year                     0\n",
              "color                    0\n",
              "price                    0\n",
              "body_type             4369\n",
              "engine_volume_cc     51704\n",
              "fuel_consumption    163287\n",
              "fuel_type            24765\n",
              "is_new                   0\n",
              "maximum_seating      48149\n",
              "mileage              50642\n",
              "horsepower           51704\n",
              "transmission         16563\n",
              "has_accidents       463396\n",
              "days_on_market           0\n",
              "dtype: int64"
            ]
          },
          "metadata": {},
          "execution_count": 5
        }
      ]
    },
    {
      "cell_type": "markdown",
      "source": [
        "## $Q1$"
      ],
      "metadata": {
        "id": "xkF2P4qk7vZv"
      }
    },
    {
      "cell_type": "markdown",
      "source": [
        "Which company has the most advertising? Among the advertised cars of this company, which model and color are common?"
      ],
      "metadata": {
        "id": "KEk9IucP7zWR"
      }
    },
    {
      "cell_type": "code",
      "source": [
        "df.groupby('manufacturer')['manufacturer'].count().sort_values(ascending=False)"
      ],
      "metadata": {
        "colab": {
          "base_uri": "https://localhost:8080/"
        },
        "id": "790xt6Vl7fHz",
        "outputId": "baeb88c2-ccbb-42a8-c2a2-b8afa42e97c2"
      },
      "execution_count": 6,
      "outputs": [
        {
          "output_type": "execute_result",
          "data": {
            "text/plain": [
              "manufacturer\n",
              "Ford         156030\n",
              "Chevrolet    126237\n",
              "Honda         76758\n",
              "Toyota        74283\n",
              "Jeep          64620\n",
              "              ...  \n",
              "Eagle             1\n",
              "Daewoo            1\n",
              "Pagani            1\n",
              "Bugatti           1\n",
              "Geo               1\n",
              "Name: manufacturer, Length: 80, dtype: int64"
            ]
          },
          "metadata": {},
          "execution_count": 6
        }
      ]
    },
    {
      "cell_type": "code",
      "source": [
        "df['manufacturer'].value_counts()"
      ],
      "metadata": {
        "colab": {
          "base_uri": "https://localhost:8080/"
        },
        "id": "CftHWm968GAO",
        "outputId": "cb4e592f-3762-40da-d450-c694d8bcacf5"
      },
      "execution_count": 7,
      "outputs": [
        {
          "output_type": "execute_result",
          "data": {
            "text/plain": [
              "Ford         156030\n",
              "Chevrolet    126237\n",
              "Honda         76758\n",
              "Toyota        74283\n",
              "Jeep          64620\n",
              "              ...  \n",
              "Edsel             1\n",
              "Kaiser            1\n",
              "Eagle             1\n",
              "Bugatti           1\n",
              "Daewoo            1\n",
              "Name: manufacturer, Length: 80, dtype: int64"
            ]
          },
          "metadata": {},
          "execution_count": 7
        }
      ]
    },
    {
      "cell_type": "code",
      "source": [
        "df[df['manufacturer'] == 'Ford']['model'].value_counts()"
      ],
      "metadata": {
        "colab": {
          "base_uri": "https://localhost:8080/"
        },
        "id": "er8mOAdg8VWp",
        "outputId": "41e47235-1994-4c34-d401-762970f6dd3e"
      },
      "execution_count": 8,
      "outputs": [
        {
          "output_type": "execute_result",
          "data": {
            "text/plain": [
              "F-150                    36585\n",
              "Escape                   22824\n",
              "Explorer                 16808\n",
              "Fusion                   14424\n",
              "Edge                     10356\n",
              "                         ...  \n",
              "Falcon                       1\n",
              "Elite                        1\n",
              "Escape Hybrid Plug-in        1\n",
              "F-450                        1\n",
              "Model B                      1\n",
              "Name: model, Length: 91, dtype: int64"
            ]
          },
          "metadata": {},
          "execution_count": 8
        }
      ]
    },
    {
      "cell_type": "code",
      "source": [
        "df[df['manufacturer'] == 'Ford']['color'].value_counts()"
      ],
      "metadata": {
        "colab": {
          "base_uri": "https://localhost:8080/"
        },
        "id": "WP1L7jsK9sX2",
        "outputId": "9248a8ef-e91b-44ee-d334-d83e943cb752"
      },
      "execution_count": 9,
      "outputs": [
        {
          "output_type": "execute_result",
          "data": {
            "text/plain": [
              "WHITE      40158\n",
              "BLACK      30761\n",
              "RED        18228\n",
              "SILVER     17687\n",
              "GRAY       15202\n",
              "BLUE       14820\n",
              "UNKNOWN    14165\n",
              "GREEN       2012\n",
              "GOLD        1179\n",
              "BROWN        820\n",
              "ORANGE       535\n",
              "YELLOW       397\n",
              "TEAL          37\n",
              "PURPLE        27\n",
              "PINK           2\n",
              "Name: color, dtype: int64"
            ]
          },
          "metadata": {},
          "execution_count": 9
        }
      ]
    },
    {
      "cell_type": "markdown",
      "source": [
        "## $Q2$"
      ],
      "metadata": {
        "id": "oZzQucDcAyyG"
      }
    },
    {
      "cell_type": "markdown",
      "source": [
        "Most advertising of car models in the 3 cities with the most advertise"
      ],
      "metadata": {
        "id": "ujGTckoTlnSJ"
      }
    },
    {
      "cell_type": "code",
      "source": [
        "df['city'].value_counts().index[:3]"
      ],
      "metadata": {
        "colab": {
          "base_uri": "https://localhost:8080/"
        },
        "id": "bc_w8AlW948Y",
        "outputId": "79f08deb-9e85-4aa9-b1b7-d23a00e5dec4"
      },
      "execution_count": 10,
      "outputs": [
        {
          "output_type": "execute_result",
          "data": {
            "text/plain": [
              "Index(['Columbus', 'Raleigh', 'Chicago'], dtype='object')"
            ]
          },
          "metadata": {},
          "execution_count": 10
        }
      ]
    },
    {
      "cell_type": "code",
      "source": [
        "most_ad_city = df['city'].value_counts().index[:3]\n",
        "df[df['city'].isin(most_ad_city)]['model'].value_counts()"
      ],
      "metadata": {
        "colab": {
          "base_uri": "https://localhost:8080/"
        },
        "id": "vUCx4bKI-FoP",
        "outputId": "1bebf081-78ca-4ff3-d717-53c02397bb2f"
      },
      "execution_count": 11,
      "outputs": [
        {
          "output_type": "execute_result",
          "data": {
            "text/plain": [
              "Camry             633\n",
              "Grand Cherokee    589\n",
              "Equinox           578\n",
              "Rogue             534\n",
              "Corolla           483\n",
              "                 ... \n",
              "L-Series            1\n",
              "CL-Class            1\n",
              "Tribute             1\n",
              "LX 470              1\n",
              "Borrego             1\n",
              "Name: model, Length: 694, dtype: int64"
            ]
          },
          "metadata": {},
          "execution_count": 11
        }
      ]
    },
    {
      "cell_type": "markdown",
      "source": [
        "## $Q3$"
      ],
      "metadata": {
        "id": "CH_2HyPMBDxM"
      }
    },
    {
      "cell_type": "markdown",
      "source": [
        "The mean of the advertised cars price"
      ],
      "metadata": {
        "id": "DldQAKagl_aC"
      }
    },
    {
      "cell_type": "code",
      "source": [
        "df['price'].mean()"
      ],
      "metadata": {
        "colab": {
          "base_uri": "https://localhost:8080/"
        },
        "id": "WaR6Oo-L-5fg",
        "outputId": "43e5abe6-5bd5-41ca-9ead-546151b576ac"
      },
      "execution_count": 12,
      "outputs": [
        {
          "output_type": "execute_result",
          "data": {
            "text/plain": [
              "29460.776542160726"
            ]
          },
          "metadata": {},
          "execution_count": 12
        }
      ]
    },
    {
      "cell_type": "markdown",
      "source": [
        "## $Q4$"
      ],
      "metadata": {
        "id": "6ne4ZT16BOTZ"
      }
    },
    {
      "cell_type": "markdown",
      "source": [
        "Sort manufacturers based on their car's average price"
      ],
      "metadata": {
        "id": "8AQ5mLJlmlvw"
      }
    },
    {
      "cell_type": "code",
      "source": [
        "df.groupby('manufacturer')['price'].mean().sort_values(ascending=False)"
      ],
      "metadata": {
        "colab": {
          "base_uri": "https://localhost:8080/"
        },
        "id": "lUMMLOYIBM4J",
        "outputId": "fb08b9d3-65a2-4a40-e367-61b8fc992a72"
      },
      "execution_count": 13,
      "outputs": [
        {
          "output_type": "execute_result",
          "data": {
            "text/plain": [
              "manufacturer\n",
              "Pagani     2.195000e+06\n",
              "Bugatti    1.244996e+06\n",
              "Spyker     3.055000e+05\n",
              "McLaren    2.555972e+05\n",
              "Ferrari    2.349716e+05\n",
              "               ...     \n",
              "Mercury    6.055007e+03\n",
              "Edsel      5.997000e+03\n",
              "Saturn     4.809793e+03\n",
              "Isuzu      4.365688e+03\n",
              "Geo        3.990000e+03\n",
              "Name: price, Length: 80, dtype: float64"
            ]
          },
          "metadata": {},
          "execution_count": 13
        }
      ]
    },
    {
      "cell_type": "markdown",
      "source": [
        "## $Q5$"
      ],
      "metadata": {
        "id": "CI73nvqDDqTr"
      }
    },
    {
      "cell_type": "code",
      "source": [
        "top3_manufactor = df[df['manufacturer'].isin(df['manufacturer'].value_counts().index[:3])]\n",
        "top3_manufactor[top3_manufactor['transmission'] == 'A']"
      ],
      "metadata": {
        "colab": {
          "base_uri": "https://localhost:8080/",
          "height": 635
        },
        "id": "5lE74cyuBbjF",
        "outputId": "bb8537c7-b2cd-4ae2-ca41-341456f2103a"
      },
      "execution_count": 14,
      "outputs": [
        {
          "output_type": "execute_result",
          "data": {
            "text/plain": [
              "         Column1  listing_id listed_date                    city manufacturer  \\\n",
              "38            38   276675304   7/16/2020               Bay Shore    Chevrolet   \n",
              "41            41   279129180   8/13/2020               Bay Shore    Chevrolet   \n",
              "45            45   279129181   8/13/2020               Bay Shore    Chevrolet   \n",
              "54            54   277998707   7/30/2020               Bay Shore    Chevrolet   \n",
              "60            60   274409090   6/18/2020               Bay Shore    Chevrolet   \n",
              "...          ...         ...         ...                     ...          ...   \n",
              "1000211  1000211   281309311    9/4/2020               Groveport    Chevrolet   \n",
              "1000212  1000212   278850210    8/9/2020                 Holland         Ford   \n",
              "1000213  1000213   276813877   7/17/2020             Westerville        Honda   \n",
              "1000218  1000218   281173667    9/3/2020  Washington Court House         Ford   \n",
              "1000219  1000219   279084171   8/12/2020              Wilmington    Chevrolet   \n",
              "\n",
              "                            model  year    color  price        body_type  \\\n",
              "38                         Malibu  2018   SILVER  14639            Sedan   \n",
              "41                       Traverse  2018   SILVER  23723  SUV / Crossover   \n",
              "45                       Traverse  2017   SILVER  22422  SUV / Crossover   \n",
              "54                       Traverse  2018    WHITE  23939  SUV / Crossover   \n",
              "60                       Traverse  2018  UNKNOWN  26343  SUV / Crossover   \n",
              "...                           ...   ...      ...    ...              ...   \n",
              "1000211                      Trax  2020     GRAY  17782  SUV / Crossover   \n",
              "1000212                     F-150  2020  UNKNOWN  50610     Pickup Truck   \n",
              "1000213                     Pilot  2021     GRAY  43940  SUV / Crossover   \n",
              "1000218                     F-150  2020     BLUE  46495     Pickup Truck   \n",
              "1000219  Silverado 3500HD Chassis  2020    WHITE  35670     Pickup Truck   \n",
              "\n",
              "         engine_volume_cc  fuel_consumption fuel_type  is_new maximum_seating  \\\n",
              "38                 1500.0              32.0  Gasoline       0         5 seats   \n",
              "41                 3600.0              22.0  Gasoline       0         8 seats   \n",
              "45                 3600.0              18.0  Gasoline       0         8 seats   \n",
              "54                 3600.0              22.0  Gasoline       0         8 seats   \n",
              "60                 3600.0              22.0  Gasoline       0         8 seats   \n",
              "...                   ...               ...       ...     ...             ...   \n",
              "1000211            1400.0              28.0  Gasoline       0         5 seats   \n",
              "1000212            3500.0              20.0  Gasoline       1         6 seats   \n",
              "1000213            3500.0               NaN  Gasoline       1         7 seats   \n",
              "1000218            3500.0              20.0  Gasoline       1         6 seats   \n",
              "1000219            6600.0               NaN  Gasoline       1         3 seats   \n",
              "\n",
              "         mileage  horsepower transmission  has_accidents  days_on_market  \n",
              "38       42394.0       160.0            A            0.0              55  \n",
              "41       36410.0       310.0            A            0.0              27  \n",
              "45       36055.0       281.0            A            1.0              27  \n",
              "54       37536.0       310.0            A            0.0              41  \n",
              "60       29695.0       310.0            A            0.0              83  \n",
              "...          ...         ...          ...            ...             ...  \n",
              "1000211  20923.0       138.0            A            0.0               6  \n",
              "1000212    798.0       375.0            A            NaN              32  \n",
              "1000213      6.0       280.0            A            NaN              55  \n",
              "1000218      0.0       375.0            A            NaN               7  \n",
              "1000219      5.0       445.0            A            NaN              29  \n",
              "\n",
              "[296219 rows x 20 columns]"
            ],
            "text/html": [
              "\n",
              "  <div id=\"df-931c62d7-b9ed-463a-a17a-f6b1f3e1cfd2\" class=\"colab-df-container\">\n",
              "    <div>\n",
              "<style scoped>\n",
              "    .dataframe tbody tr th:only-of-type {\n",
              "        vertical-align: middle;\n",
              "    }\n",
              "\n",
              "    .dataframe tbody tr th {\n",
              "        vertical-align: top;\n",
              "    }\n",
              "\n",
              "    .dataframe thead th {\n",
              "        text-align: right;\n",
              "    }\n",
              "</style>\n",
              "<table border=\"1\" class=\"dataframe\">\n",
              "  <thead>\n",
              "    <tr style=\"text-align: right;\">\n",
              "      <th></th>\n",
              "      <th>Column1</th>\n",
              "      <th>listing_id</th>\n",
              "      <th>listed_date</th>\n",
              "      <th>city</th>\n",
              "      <th>manufacturer</th>\n",
              "      <th>model</th>\n",
              "      <th>year</th>\n",
              "      <th>color</th>\n",
              "      <th>price</th>\n",
              "      <th>body_type</th>\n",
              "      <th>engine_volume_cc</th>\n",
              "      <th>fuel_consumption</th>\n",
              "      <th>fuel_type</th>\n",
              "      <th>is_new</th>\n",
              "      <th>maximum_seating</th>\n",
              "      <th>mileage</th>\n",
              "      <th>horsepower</th>\n",
              "      <th>transmission</th>\n",
              "      <th>has_accidents</th>\n",
              "      <th>days_on_market</th>\n",
              "    </tr>\n",
              "  </thead>\n",
              "  <tbody>\n",
              "    <tr>\n",
              "      <th>38</th>\n",
              "      <td>38</td>\n",
              "      <td>276675304</td>\n",
              "      <td>7/16/2020</td>\n",
              "      <td>Bay Shore</td>\n",
              "      <td>Chevrolet</td>\n",
              "      <td>Malibu</td>\n",
              "      <td>2018</td>\n",
              "      <td>SILVER</td>\n",
              "      <td>14639</td>\n",
              "      <td>Sedan</td>\n",
              "      <td>1500.0</td>\n",
              "      <td>32.0</td>\n",
              "      <td>Gasoline</td>\n",
              "      <td>0</td>\n",
              "      <td>5 seats</td>\n",
              "      <td>42394.0</td>\n",
              "      <td>160.0</td>\n",
              "      <td>A</td>\n",
              "      <td>0.0</td>\n",
              "      <td>55</td>\n",
              "    </tr>\n",
              "    <tr>\n",
              "      <th>41</th>\n",
              "      <td>41</td>\n",
              "      <td>279129180</td>\n",
              "      <td>8/13/2020</td>\n",
              "      <td>Bay Shore</td>\n",
              "      <td>Chevrolet</td>\n",
              "      <td>Traverse</td>\n",
              "      <td>2018</td>\n",
              "      <td>SILVER</td>\n",
              "      <td>23723</td>\n",
              "      <td>SUV / Crossover</td>\n",
              "      <td>3600.0</td>\n",
              "      <td>22.0</td>\n",
              "      <td>Gasoline</td>\n",
              "      <td>0</td>\n",
              "      <td>8 seats</td>\n",
              "      <td>36410.0</td>\n",
              "      <td>310.0</td>\n",
              "      <td>A</td>\n",
              "      <td>0.0</td>\n",
              "      <td>27</td>\n",
              "    </tr>\n",
              "    <tr>\n",
              "      <th>45</th>\n",
              "      <td>45</td>\n",
              "      <td>279129181</td>\n",
              "      <td>8/13/2020</td>\n",
              "      <td>Bay Shore</td>\n",
              "      <td>Chevrolet</td>\n",
              "      <td>Traverse</td>\n",
              "      <td>2017</td>\n",
              "      <td>SILVER</td>\n",
              "      <td>22422</td>\n",
              "      <td>SUV / Crossover</td>\n",
              "      <td>3600.0</td>\n",
              "      <td>18.0</td>\n",
              "      <td>Gasoline</td>\n",
              "      <td>0</td>\n",
              "      <td>8 seats</td>\n",
              "      <td>36055.0</td>\n",
              "      <td>281.0</td>\n",
              "      <td>A</td>\n",
              "      <td>1.0</td>\n",
              "      <td>27</td>\n",
              "    </tr>\n",
              "    <tr>\n",
              "      <th>54</th>\n",
              "      <td>54</td>\n",
              "      <td>277998707</td>\n",
              "      <td>7/30/2020</td>\n",
              "      <td>Bay Shore</td>\n",
              "      <td>Chevrolet</td>\n",
              "      <td>Traverse</td>\n",
              "      <td>2018</td>\n",
              "      <td>WHITE</td>\n",
              "      <td>23939</td>\n",
              "      <td>SUV / Crossover</td>\n",
              "      <td>3600.0</td>\n",
              "      <td>22.0</td>\n",
              "      <td>Gasoline</td>\n",
              "      <td>0</td>\n",
              "      <td>8 seats</td>\n",
              "      <td>37536.0</td>\n",
              "      <td>310.0</td>\n",
              "      <td>A</td>\n",
              "      <td>0.0</td>\n",
              "      <td>41</td>\n",
              "    </tr>\n",
              "    <tr>\n",
              "      <th>60</th>\n",
              "      <td>60</td>\n",
              "      <td>274409090</td>\n",
              "      <td>6/18/2020</td>\n",
              "      <td>Bay Shore</td>\n",
              "      <td>Chevrolet</td>\n",
              "      <td>Traverse</td>\n",
              "      <td>2018</td>\n",
              "      <td>UNKNOWN</td>\n",
              "      <td>26343</td>\n",
              "      <td>SUV / Crossover</td>\n",
              "      <td>3600.0</td>\n",
              "      <td>22.0</td>\n",
              "      <td>Gasoline</td>\n",
              "      <td>0</td>\n",
              "      <td>8 seats</td>\n",
              "      <td>29695.0</td>\n",
              "      <td>310.0</td>\n",
              "      <td>A</td>\n",
              "      <td>0.0</td>\n",
              "      <td>83</td>\n",
              "    </tr>\n",
              "    <tr>\n",
              "      <th>...</th>\n",
              "      <td>...</td>\n",
              "      <td>...</td>\n",
              "      <td>...</td>\n",
              "      <td>...</td>\n",
              "      <td>...</td>\n",
              "      <td>...</td>\n",
              "      <td>...</td>\n",
              "      <td>...</td>\n",
              "      <td>...</td>\n",
              "      <td>...</td>\n",
              "      <td>...</td>\n",
              "      <td>...</td>\n",
              "      <td>...</td>\n",
              "      <td>...</td>\n",
              "      <td>...</td>\n",
              "      <td>...</td>\n",
              "      <td>...</td>\n",
              "      <td>...</td>\n",
              "      <td>...</td>\n",
              "      <td>...</td>\n",
              "    </tr>\n",
              "    <tr>\n",
              "      <th>1000211</th>\n",
              "      <td>1000211</td>\n",
              "      <td>281309311</td>\n",
              "      <td>9/4/2020</td>\n",
              "      <td>Groveport</td>\n",
              "      <td>Chevrolet</td>\n",
              "      <td>Trax</td>\n",
              "      <td>2020</td>\n",
              "      <td>GRAY</td>\n",
              "      <td>17782</td>\n",
              "      <td>SUV / Crossover</td>\n",
              "      <td>1400.0</td>\n",
              "      <td>28.0</td>\n",
              "      <td>Gasoline</td>\n",
              "      <td>0</td>\n",
              "      <td>5 seats</td>\n",
              "      <td>20923.0</td>\n",
              "      <td>138.0</td>\n",
              "      <td>A</td>\n",
              "      <td>0.0</td>\n",
              "      <td>6</td>\n",
              "    </tr>\n",
              "    <tr>\n",
              "      <th>1000212</th>\n",
              "      <td>1000212</td>\n",
              "      <td>278850210</td>\n",
              "      <td>8/9/2020</td>\n",
              "      <td>Holland</td>\n",
              "      <td>Ford</td>\n",
              "      <td>F-150</td>\n",
              "      <td>2020</td>\n",
              "      <td>UNKNOWN</td>\n",
              "      <td>50610</td>\n",
              "      <td>Pickup Truck</td>\n",
              "      <td>3500.0</td>\n",
              "      <td>20.0</td>\n",
              "      <td>Gasoline</td>\n",
              "      <td>1</td>\n",
              "      <td>6 seats</td>\n",
              "      <td>798.0</td>\n",
              "      <td>375.0</td>\n",
              "      <td>A</td>\n",
              "      <td>NaN</td>\n",
              "      <td>32</td>\n",
              "    </tr>\n",
              "    <tr>\n",
              "      <th>1000213</th>\n",
              "      <td>1000213</td>\n",
              "      <td>276813877</td>\n",
              "      <td>7/17/2020</td>\n",
              "      <td>Westerville</td>\n",
              "      <td>Honda</td>\n",
              "      <td>Pilot</td>\n",
              "      <td>2021</td>\n",
              "      <td>GRAY</td>\n",
              "      <td>43940</td>\n",
              "      <td>SUV / Crossover</td>\n",
              "      <td>3500.0</td>\n",
              "      <td>NaN</td>\n",
              "      <td>Gasoline</td>\n",
              "      <td>1</td>\n",
              "      <td>7 seats</td>\n",
              "      <td>6.0</td>\n",
              "      <td>280.0</td>\n",
              "      <td>A</td>\n",
              "      <td>NaN</td>\n",
              "      <td>55</td>\n",
              "    </tr>\n",
              "    <tr>\n",
              "      <th>1000218</th>\n",
              "      <td>1000218</td>\n",
              "      <td>281173667</td>\n",
              "      <td>9/3/2020</td>\n",
              "      <td>Washington Court House</td>\n",
              "      <td>Ford</td>\n",
              "      <td>F-150</td>\n",
              "      <td>2020</td>\n",
              "      <td>BLUE</td>\n",
              "      <td>46495</td>\n",
              "      <td>Pickup Truck</td>\n",
              "      <td>3500.0</td>\n",
              "      <td>20.0</td>\n",
              "      <td>Gasoline</td>\n",
              "      <td>1</td>\n",
              "      <td>6 seats</td>\n",
              "      <td>0.0</td>\n",
              "      <td>375.0</td>\n",
              "      <td>A</td>\n",
              "      <td>NaN</td>\n",
              "      <td>7</td>\n",
              "    </tr>\n",
              "    <tr>\n",
              "      <th>1000219</th>\n",
              "      <td>1000219</td>\n",
              "      <td>279084171</td>\n",
              "      <td>8/12/2020</td>\n",
              "      <td>Wilmington</td>\n",
              "      <td>Chevrolet</td>\n",
              "      <td>Silverado 3500HD Chassis</td>\n",
              "      <td>2020</td>\n",
              "      <td>WHITE</td>\n",
              "      <td>35670</td>\n",
              "      <td>Pickup Truck</td>\n",
              "      <td>6600.0</td>\n",
              "      <td>NaN</td>\n",
              "      <td>Gasoline</td>\n",
              "      <td>1</td>\n",
              "      <td>3 seats</td>\n",
              "      <td>5.0</td>\n",
              "      <td>445.0</td>\n",
              "      <td>A</td>\n",
              "      <td>NaN</td>\n",
              "      <td>29</td>\n",
              "    </tr>\n",
              "  </tbody>\n",
              "</table>\n",
              "<p>296219 rows × 20 columns</p>\n",
              "</div>\n",
              "    <div class=\"colab-df-buttons\">\n",
              "\n",
              "  <div class=\"colab-df-container\">\n",
              "    <button class=\"colab-df-convert\" onclick=\"convertToInteractive('df-931c62d7-b9ed-463a-a17a-f6b1f3e1cfd2')\"\n",
              "            title=\"Convert this dataframe to an interactive table.\"\n",
              "            style=\"display:none;\">\n",
              "\n",
              "  <svg xmlns=\"http://www.w3.org/2000/svg\" height=\"24px\" viewBox=\"0 -960 960 960\">\n",
              "    <path d=\"M120-120v-720h720v720H120Zm60-500h600v-160H180v160Zm220 220h160v-160H400v160Zm0 220h160v-160H400v160ZM180-400h160v-160H180v160Zm440 0h160v-160H620v160ZM180-180h160v-160H180v160Zm440 0h160v-160H620v160Z\"/>\n",
              "  </svg>\n",
              "    </button>\n",
              "\n",
              "  <style>\n",
              "    .colab-df-container {\n",
              "      display:flex;\n",
              "      gap: 12px;\n",
              "    }\n",
              "\n",
              "    .colab-df-convert {\n",
              "      background-color: #E8F0FE;\n",
              "      border: none;\n",
              "      border-radius: 50%;\n",
              "      cursor: pointer;\n",
              "      display: none;\n",
              "      fill: #1967D2;\n",
              "      height: 32px;\n",
              "      padding: 0 0 0 0;\n",
              "      width: 32px;\n",
              "    }\n",
              "\n",
              "    .colab-df-convert:hover {\n",
              "      background-color: #E2EBFA;\n",
              "      box-shadow: 0px 1px 2px rgba(60, 64, 67, 0.3), 0px 1px 3px 1px rgba(60, 64, 67, 0.15);\n",
              "      fill: #174EA6;\n",
              "    }\n",
              "\n",
              "    .colab-df-buttons div {\n",
              "      margin-bottom: 4px;\n",
              "    }\n",
              "\n",
              "    [theme=dark] .colab-df-convert {\n",
              "      background-color: #3B4455;\n",
              "      fill: #D2E3FC;\n",
              "    }\n",
              "\n",
              "    [theme=dark] .colab-df-convert:hover {\n",
              "      background-color: #434B5C;\n",
              "      box-shadow: 0px 1px 3px 1px rgba(0, 0, 0, 0.15);\n",
              "      filter: drop-shadow(0px 1px 2px rgba(0, 0, 0, 0.3));\n",
              "      fill: #FFFFFF;\n",
              "    }\n",
              "  </style>\n",
              "\n",
              "    <script>\n",
              "      const buttonEl =\n",
              "        document.querySelector('#df-931c62d7-b9ed-463a-a17a-f6b1f3e1cfd2 button.colab-df-convert');\n",
              "      buttonEl.style.display =\n",
              "        google.colab.kernel.accessAllowed ? 'block' : 'none';\n",
              "\n",
              "      async function convertToInteractive(key) {\n",
              "        const element = document.querySelector('#df-931c62d7-b9ed-463a-a17a-f6b1f3e1cfd2');\n",
              "        const dataTable =\n",
              "          await google.colab.kernel.invokeFunction('convertToInteractive',\n",
              "                                                    [key], {});\n",
              "        if (!dataTable) return;\n",
              "\n",
              "        const docLinkHtml = 'Like what you see? Visit the ' +\n",
              "          '<a target=\"_blank\" href=https://colab.research.google.com/notebooks/data_table.ipynb>data table notebook</a>'\n",
              "          + ' to learn more about interactive tables.';\n",
              "        element.innerHTML = '';\n",
              "        dataTable['output_type'] = 'display_data';\n",
              "        await google.colab.output.renderOutput(dataTable, element);\n",
              "        const docLink = document.createElement('div');\n",
              "        docLink.innerHTML = docLinkHtml;\n",
              "        element.appendChild(docLink);\n",
              "      }\n",
              "    </script>\n",
              "  </div>\n",
              "\n",
              "\n",
              "<div id=\"df-a1515b2b-36ff-4712-ada0-f2da7a8e8a5d\">\n",
              "  <button class=\"colab-df-quickchart\" onclick=\"quickchart('df-a1515b2b-36ff-4712-ada0-f2da7a8e8a5d')\"\n",
              "            title=\"Suggest charts\"\n",
              "            style=\"display:none;\">\n",
              "\n",
              "<svg xmlns=\"http://www.w3.org/2000/svg\" height=\"24px\"viewBox=\"0 0 24 24\"\n",
              "     width=\"24px\">\n",
              "    <g>\n",
              "        <path d=\"M19 3H5c-1.1 0-2 .9-2 2v14c0 1.1.9 2 2 2h14c1.1 0 2-.9 2-2V5c0-1.1-.9-2-2-2zM9 17H7v-7h2v7zm4 0h-2V7h2v10zm4 0h-2v-4h2v4z\"/>\n",
              "    </g>\n",
              "</svg>\n",
              "  </button>\n",
              "\n",
              "<style>\n",
              "  .colab-df-quickchart {\n",
              "      --bg-color: #E8F0FE;\n",
              "      --fill-color: #1967D2;\n",
              "      --hover-bg-color: #E2EBFA;\n",
              "      --hover-fill-color: #174EA6;\n",
              "      --disabled-fill-color: #AAA;\n",
              "      --disabled-bg-color: #DDD;\n",
              "  }\n",
              "\n",
              "  [theme=dark] .colab-df-quickchart {\n",
              "      --bg-color: #3B4455;\n",
              "      --fill-color: #D2E3FC;\n",
              "      --hover-bg-color: #434B5C;\n",
              "      --hover-fill-color: #FFFFFF;\n",
              "      --disabled-bg-color: #3B4455;\n",
              "      --disabled-fill-color: #666;\n",
              "  }\n",
              "\n",
              "  .colab-df-quickchart {\n",
              "    background-color: var(--bg-color);\n",
              "    border: none;\n",
              "    border-radius: 50%;\n",
              "    cursor: pointer;\n",
              "    display: none;\n",
              "    fill: var(--fill-color);\n",
              "    height: 32px;\n",
              "    padding: 0;\n",
              "    width: 32px;\n",
              "  }\n",
              "\n",
              "  .colab-df-quickchart:hover {\n",
              "    background-color: var(--hover-bg-color);\n",
              "    box-shadow: 0 1px 2px rgba(60, 64, 67, 0.3), 0 1px 3px 1px rgba(60, 64, 67, 0.15);\n",
              "    fill: var(--button-hover-fill-color);\n",
              "  }\n",
              "\n",
              "  .colab-df-quickchart-complete:disabled,\n",
              "  .colab-df-quickchart-complete:disabled:hover {\n",
              "    background-color: var(--disabled-bg-color);\n",
              "    fill: var(--disabled-fill-color);\n",
              "    box-shadow: none;\n",
              "  }\n",
              "\n",
              "  .colab-df-spinner {\n",
              "    border: 2px solid var(--fill-color);\n",
              "    border-color: transparent;\n",
              "    border-bottom-color: var(--fill-color);\n",
              "    animation:\n",
              "      spin 1s steps(1) infinite;\n",
              "  }\n",
              "\n",
              "  @keyframes spin {\n",
              "    0% {\n",
              "      border-color: transparent;\n",
              "      border-bottom-color: var(--fill-color);\n",
              "      border-left-color: var(--fill-color);\n",
              "    }\n",
              "    20% {\n",
              "      border-color: transparent;\n",
              "      border-left-color: var(--fill-color);\n",
              "      border-top-color: var(--fill-color);\n",
              "    }\n",
              "    30% {\n",
              "      border-color: transparent;\n",
              "      border-left-color: var(--fill-color);\n",
              "      border-top-color: var(--fill-color);\n",
              "      border-right-color: var(--fill-color);\n",
              "    }\n",
              "    40% {\n",
              "      border-color: transparent;\n",
              "      border-right-color: var(--fill-color);\n",
              "      border-top-color: var(--fill-color);\n",
              "    }\n",
              "    60% {\n",
              "      border-color: transparent;\n",
              "      border-right-color: var(--fill-color);\n",
              "    }\n",
              "    80% {\n",
              "      border-color: transparent;\n",
              "      border-right-color: var(--fill-color);\n",
              "      border-bottom-color: var(--fill-color);\n",
              "    }\n",
              "    90% {\n",
              "      border-color: transparent;\n",
              "      border-bottom-color: var(--fill-color);\n",
              "    }\n",
              "  }\n",
              "</style>\n",
              "\n",
              "  <script>\n",
              "    async function quickchart(key) {\n",
              "      const quickchartButtonEl =\n",
              "        document.querySelector('#' + key + ' button');\n",
              "      quickchartButtonEl.disabled = true;  // To prevent multiple clicks.\n",
              "      quickchartButtonEl.classList.add('colab-df-spinner');\n",
              "      try {\n",
              "        const charts = await google.colab.kernel.invokeFunction(\n",
              "            'suggestCharts', [key], {});\n",
              "      } catch (error) {\n",
              "        console.error('Error during call to suggestCharts:', error);\n",
              "      }\n",
              "      quickchartButtonEl.classList.remove('colab-df-spinner');\n",
              "      quickchartButtonEl.classList.add('colab-df-quickchart-complete');\n",
              "    }\n",
              "    (() => {\n",
              "      let quickchartButtonEl =\n",
              "        document.querySelector('#df-a1515b2b-36ff-4712-ada0-f2da7a8e8a5d button');\n",
              "      quickchartButtonEl.style.display =\n",
              "        google.colab.kernel.accessAllowed ? 'block' : 'none';\n",
              "    })();\n",
              "  </script>\n",
              "</div>\n",
              "    </div>\n",
              "  </div>\n"
            ],
            "application/vnd.google.colaboratory.intrinsic+json": {
              "type": "dataframe"
            }
          },
          "metadata": {},
          "execution_count": 14
        }
      ]
    },
    {
      "cell_type": "code",
      "source": [
        "def car_class(x):\n",
        "  if x <= 2000:\n",
        "    return 'A'\n",
        "  elif x > 2000 and x < 4000:\n",
        "    return 'B'\n",
        "  elif x >= 4000:\n",
        "    return 'C'"
      ],
      "metadata": {
        "id": "fW9hjjmjEbpF"
      },
      "execution_count": 15,
      "outputs": []
    },
    {
      "cell_type": "code",
      "source": [
        "top3_manufactor[top3_manufactor['transmission'] == 'A']['engine_volume_cc'].apply(car_class).value_counts()"
      ],
      "metadata": {
        "colab": {
          "base_uri": "https://localhost:8080/"
        },
        "id": "6NkiasW5E4e9",
        "outputId": "a9220e05-23d7-40ab-a8e9-f789713d8d6c"
      },
      "execution_count": 16,
      "outputs": [
        {
          "output_type": "execute_result",
          "data": {
            "text/plain": [
              "B    123063\n",
              "A    104671\n",
              "C     56729\n",
              "Name: engine_volume_cc, dtype: int64"
            ]
          },
          "metadata": {},
          "execution_count": 16
        }
      ]
    },
    {
      "cell_type": "markdown",
      "source": [
        "Car's classes distribution for each manufacturer"
      ],
      "metadata": {
        "id": "oNuuUzTU5o0m"
      }
    },
    {
      "cell_type": "code",
      "source": [
        "df[(df['manufacturer'].isin(df['manufacturer'].value_counts().index[:3])) & (df['transmission'] == 'A')].groupby('manufacturer').apply(lambda x:x['engine_volume_cc'].apply(car_class).value_counts())"
      ],
      "metadata": {
        "colab": {
          "base_uri": "https://localhost:8080/"
        },
        "id": "BgvBxDdKR9_2",
        "outputId": "77cbc1d9-199a-4490-c1e0-dd52a76ecb8f"
      },
      "execution_count": 17,
      "outputs": [
        {
          "output_type": "execute_result",
          "data": {
            "text/plain": [
              "manufacturer   \n",
              "Chevrolet     A    49114\n",
              "              C    36120\n",
              "              B    29542\n",
              "Ford          B    69594\n",
              "              A    47346\n",
              "              C    20609\n",
              "Honda         B    23927\n",
              "              A     8211\n",
              "Name: engine_volume_cc, dtype: int64"
            ]
          },
          "metadata": {},
          "execution_count": 17
        }
      ]
    },
    {
      "cell_type": "markdown",
      "source": [
        "## $Q6$"
      ],
      "metadata": {
        "id": "EqL4A0_pFS-7"
      }
    },
    {
      "cell_type": "markdown",
      "source": [
        "Do engine volumes affect fuel consumption?"
      ],
      "metadata": {
        "id": "NGf38jn9nQA6"
      }
    },
    {
      "cell_type": "code",
      "source": [
        "df.loc[:,['manufacturer', 'model', 'engine_volume_cc', 'fuel_consumption']]"
      ],
      "metadata": {
        "colab": {
          "base_uri": "https://localhost:8080/",
          "height": 424
        },
        "id": "MWXYBYQmFJCC",
        "outputId": "ce8c2caf-6020-4143-8e6c-32dc316f75d6"
      },
      "execution_count": 18,
      "outputs": [
        {
          "output_type": "execute_result",
          "data": {
            "text/plain": [
              "        manufacturer                     model  engine_volume_cc  \\\n",
              "0               Jeep                  Renegade            1300.0   \n",
              "1         Land Rover           Discovery Sport            2000.0   \n",
              "2             Subaru                   WRX STI            2500.0   \n",
              "3         Land Rover                 Discovery            3000.0   \n",
              "4         Land Rover           Discovery Sport            2000.0   \n",
              "...              ...                       ...               ...   \n",
              "1000215       Nissan                    Altima            2500.0   \n",
              "1000216     Chrysler                       300            3600.0   \n",
              "1000217         Ford                   Mustang            2300.0   \n",
              "1000218         Ford                     F-150            3500.0   \n",
              "1000219    Chevrolet  Silverado 3500HD Chassis            6600.0   \n",
              "\n",
              "         fuel_consumption  \n",
              "0                     NaN  \n",
              "1                     NaN  \n",
              "2                    20.0  \n",
              "3                     NaN  \n",
              "4                     NaN  \n",
              "...                   ...  \n",
              "1000215              34.0  \n",
              "1000216              22.0  \n",
              "1000217              26.0  \n",
              "1000218              20.0  \n",
              "1000219               NaN  \n",
              "\n",
              "[1000220 rows x 4 columns]"
            ],
            "text/html": [
              "\n",
              "  <div id=\"df-54f2c03f-5c69-405d-8c79-1bfcf5a4894a\" class=\"colab-df-container\">\n",
              "    <div>\n",
              "<style scoped>\n",
              "    .dataframe tbody tr th:only-of-type {\n",
              "        vertical-align: middle;\n",
              "    }\n",
              "\n",
              "    .dataframe tbody tr th {\n",
              "        vertical-align: top;\n",
              "    }\n",
              "\n",
              "    .dataframe thead th {\n",
              "        text-align: right;\n",
              "    }\n",
              "</style>\n",
              "<table border=\"1\" class=\"dataframe\">\n",
              "  <thead>\n",
              "    <tr style=\"text-align: right;\">\n",
              "      <th></th>\n",
              "      <th>manufacturer</th>\n",
              "      <th>model</th>\n",
              "      <th>engine_volume_cc</th>\n",
              "      <th>fuel_consumption</th>\n",
              "    </tr>\n",
              "  </thead>\n",
              "  <tbody>\n",
              "    <tr>\n",
              "      <th>0</th>\n",
              "      <td>Jeep</td>\n",
              "      <td>Renegade</td>\n",
              "      <td>1300.0</td>\n",
              "      <td>NaN</td>\n",
              "    </tr>\n",
              "    <tr>\n",
              "      <th>1</th>\n",
              "      <td>Land Rover</td>\n",
              "      <td>Discovery Sport</td>\n",
              "      <td>2000.0</td>\n",
              "      <td>NaN</td>\n",
              "    </tr>\n",
              "    <tr>\n",
              "      <th>2</th>\n",
              "      <td>Subaru</td>\n",
              "      <td>WRX STI</td>\n",
              "      <td>2500.0</td>\n",
              "      <td>20.0</td>\n",
              "    </tr>\n",
              "    <tr>\n",
              "      <th>3</th>\n",
              "      <td>Land Rover</td>\n",
              "      <td>Discovery</td>\n",
              "      <td>3000.0</td>\n",
              "      <td>NaN</td>\n",
              "    </tr>\n",
              "    <tr>\n",
              "      <th>4</th>\n",
              "      <td>Land Rover</td>\n",
              "      <td>Discovery Sport</td>\n",
              "      <td>2000.0</td>\n",
              "      <td>NaN</td>\n",
              "    </tr>\n",
              "    <tr>\n",
              "      <th>...</th>\n",
              "      <td>...</td>\n",
              "      <td>...</td>\n",
              "      <td>...</td>\n",
              "      <td>...</td>\n",
              "    </tr>\n",
              "    <tr>\n",
              "      <th>1000215</th>\n",
              "      <td>Nissan</td>\n",
              "      <td>Altima</td>\n",
              "      <td>2500.0</td>\n",
              "      <td>34.0</td>\n",
              "    </tr>\n",
              "    <tr>\n",
              "      <th>1000216</th>\n",
              "      <td>Chrysler</td>\n",
              "      <td>300</td>\n",
              "      <td>3600.0</td>\n",
              "      <td>22.0</td>\n",
              "    </tr>\n",
              "    <tr>\n",
              "      <th>1000217</th>\n",
              "      <td>Ford</td>\n",
              "      <td>Mustang</td>\n",
              "      <td>2300.0</td>\n",
              "      <td>26.0</td>\n",
              "    </tr>\n",
              "    <tr>\n",
              "      <th>1000218</th>\n",
              "      <td>Ford</td>\n",
              "      <td>F-150</td>\n",
              "      <td>3500.0</td>\n",
              "      <td>20.0</td>\n",
              "    </tr>\n",
              "    <tr>\n",
              "      <th>1000219</th>\n",
              "      <td>Chevrolet</td>\n",
              "      <td>Silverado 3500HD Chassis</td>\n",
              "      <td>6600.0</td>\n",
              "      <td>NaN</td>\n",
              "    </tr>\n",
              "  </tbody>\n",
              "</table>\n",
              "<p>1000220 rows × 4 columns</p>\n",
              "</div>\n",
              "    <div class=\"colab-df-buttons\">\n",
              "\n",
              "  <div class=\"colab-df-container\">\n",
              "    <button class=\"colab-df-convert\" onclick=\"convertToInteractive('df-54f2c03f-5c69-405d-8c79-1bfcf5a4894a')\"\n",
              "            title=\"Convert this dataframe to an interactive table.\"\n",
              "            style=\"display:none;\">\n",
              "\n",
              "  <svg xmlns=\"http://www.w3.org/2000/svg\" height=\"24px\" viewBox=\"0 -960 960 960\">\n",
              "    <path d=\"M120-120v-720h720v720H120Zm60-500h600v-160H180v160Zm220 220h160v-160H400v160Zm0 220h160v-160H400v160ZM180-400h160v-160H180v160Zm440 0h160v-160H620v160ZM180-180h160v-160H180v160Zm440 0h160v-160H620v160Z\"/>\n",
              "  </svg>\n",
              "    </button>\n",
              "\n",
              "  <style>\n",
              "    .colab-df-container {\n",
              "      display:flex;\n",
              "      gap: 12px;\n",
              "    }\n",
              "\n",
              "    .colab-df-convert {\n",
              "      background-color: #E8F0FE;\n",
              "      border: none;\n",
              "      border-radius: 50%;\n",
              "      cursor: pointer;\n",
              "      display: none;\n",
              "      fill: #1967D2;\n",
              "      height: 32px;\n",
              "      padding: 0 0 0 0;\n",
              "      width: 32px;\n",
              "    }\n",
              "\n",
              "    .colab-df-convert:hover {\n",
              "      background-color: #E2EBFA;\n",
              "      box-shadow: 0px 1px 2px rgba(60, 64, 67, 0.3), 0px 1px 3px 1px rgba(60, 64, 67, 0.15);\n",
              "      fill: #174EA6;\n",
              "    }\n",
              "\n",
              "    .colab-df-buttons div {\n",
              "      margin-bottom: 4px;\n",
              "    }\n",
              "\n",
              "    [theme=dark] .colab-df-convert {\n",
              "      background-color: #3B4455;\n",
              "      fill: #D2E3FC;\n",
              "    }\n",
              "\n",
              "    [theme=dark] .colab-df-convert:hover {\n",
              "      background-color: #434B5C;\n",
              "      box-shadow: 0px 1px 3px 1px rgba(0, 0, 0, 0.15);\n",
              "      filter: drop-shadow(0px 1px 2px rgba(0, 0, 0, 0.3));\n",
              "      fill: #FFFFFF;\n",
              "    }\n",
              "  </style>\n",
              "\n",
              "    <script>\n",
              "      const buttonEl =\n",
              "        document.querySelector('#df-54f2c03f-5c69-405d-8c79-1bfcf5a4894a button.colab-df-convert');\n",
              "      buttonEl.style.display =\n",
              "        google.colab.kernel.accessAllowed ? 'block' : 'none';\n",
              "\n",
              "      async function convertToInteractive(key) {\n",
              "        const element = document.querySelector('#df-54f2c03f-5c69-405d-8c79-1bfcf5a4894a');\n",
              "        const dataTable =\n",
              "          await google.colab.kernel.invokeFunction('convertToInteractive',\n",
              "                                                    [key], {});\n",
              "        if (!dataTable) return;\n",
              "\n",
              "        const docLinkHtml = 'Like what you see? Visit the ' +\n",
              "          '<a target=\"_blank\" href=https://colab.research.google.com/notebooks/data_table.ipynb>data table notebook</a>'\n",
              "          + ' to learn more about interactive tables.';\n",
              "        element.innerHTML = '';\n",
              "        dataTable['output_type'] = 'display_data';\n",
              "        await google.colab.output.renderOutput(dataTable, element);\n",
              "        const docLink = document.createElement('div');\n",
              "        docLink.innerHTML = docLinkHtml;\n",
              "        element.appendChild(docLink);\n",
              "      }\n",
              "    </script>\n",
              "  </div>\n",
              "\n",
              "\n",
              "<div id=\"df-00491539-6c7c-46b2-8c50-6bf2ad3d168b\">\n",
              "  <button class=\"colab-df-quickchart\" onclick=\"quickchart('df-00491539-6c7c-46b2-8c50-6bf2ad3d168b')\"\n",
              "            title=\"Suggest charts\"\n",
              "            style=\"display:none;\">\n",
              "\n",
              "<svg xmlns=\"http://www.w3.org/2000/svg\" height=\"24px\"viewBox=\"0 0 24 24\"\n",
              "     width=\"24px\">\n",
              "    <g>\n",
              "        <path d=\"M19 3H5c-1.1 0-2 .9-2 2v14c0 1.1.9 2 2 2h14c1.1 0 2-.9 2-2V5c0-1.1-.9-2-2-2zM9 17H7v-7h2v7zm4 0h-2V7h2v10zm4 0h-2v-4h2v4z\"/>\n",
              "    </g>\n",
              "</svg>\n",
              "  </button>\n",
              "\n",
              "<style>\n",
              "  .colab-df-quickchart {\n",
              "      --bg-color: #E8F0FE;\n",
              "      --fill-color: #1967D2;\n",
              "      --hover-bg-color: #E2EBFA;\n",
              "      --hover-fill-color: #174EA6;\n",
              "      --disabled-fill-color: #AAA;\n",
              "      --disabled-bg-color: #DDD;\n",
              "  }\n",
              "\n",
              "  [theme=dark] .colab-df-quickchart {\n",
              "      --bg-color: #3B4455;\n",
              "      --fill-color: #D2E3FC;\n",
              "      --hover-bg-color: #434B5C;\n",
              "      --hover-fill-color: #FFFFFF;\n",
              "      --disabled-bg-color: #3B4455;\n",
              "      --disabled-fill-color: #666;\n",
              "  }\n",
              "\n",
              "  .colab-df-quickchart {\n",
              "    background-color: var(--bg-color);\n",
              "    border: none;\n",
              "    border-radius: 50%;\n",
              "    cursor: pointer;\n",
              "    display: none;\n",
              "    fill: var(--fill-color);\n",
              "    height: 32px;\n",
              "    padding: 0;\n",
              "    width: 32px;\n",
              "  }\n",
              "\n",
              "  .colab-df-quickchart:hover {\n",
              "    background-color: var(--hover-bg-color);\n",
              "    box-shadow: 0 1px 2px rgba(60, 64, 67, 0.3), 0 1px 3px 1px rgba(60, 64, 67, 0.15);\n",
              "    fill: var(--button-hover-fill-color);\n",
              "  }\n",
              "\n",
              "  .colab-df-quickchart-complete:disabled,\n",
              "  .colab-df-quickchart-complete:disabled:hover {\n",
              "    background-color: var(--disabled-bg-color);\n",
              "    fill: var(--disabled-fill-color);\n",
              "    box-shadow: none;\n",
              "  }\n",
              "\n",
              "  .colab-df-spinner {\n",
              "    border: 2px solid var(--fill-color);\n",
              "    border-color: transparent;\n",
              "    border-bottom-color: var(--fill-color);\n",
              "    animation:\n",
              "      spin 1s steps(1) infinite;\n",
              "  }\n",
              "\n",
              "  @keyframes spin {\n",
              "    0% {\n",
              "      border-color: transparent;\n",
              "      border-bottom-color: var(--fill-color);\n",
              "      border-left-color: var(--fill-color);\n",
              "    }\n",
              "    20% {\n",
              "      border-color: transparent;\n",
              "      border-left-color: var(--fill-color);\n",
              "      border-top-color: var(--fill-color);\n",
              "    }\n",
              "    30% {\n",
              "      border-color: transparent;\n",
              "      border-left-color: var(--fill-color);\n",
              "      border-top-color: var(--fill-color);\n",
              "      border-right-color: var(--fill-color);\n",
              "    }\n",
              "    40% {\n",
              "      border-color: transparent;\n",
              "      border-right-color: var(--fill-color);\n",
              "      border-top-color: var(--fill-color);\n",
              "    }\n",
              "    60% {\n",
              "      border-color: transparent;\n",
              "      border-right-color: var(--fill-color);\n",
              "    }\n",
              "    80% {\n",
              "      border-color: transparent;\n",
              "      border-right-color: var(--fill-color);\n",
              "      border-bottom-color: var(--fill-color);\n",
              "    }\n",
              "    90% {\n",
              "      border-color: transparent;\n",
              "      border-bottom-color: var(--fill-color);\n",
              "    }\n",
              "  }\n",
              "</style>\n",
              "\n",
              "  <script>\n",
              "    async function quickchart(key) {\n",
              "      const quickchartButtonEl =\n",
              "        document.querySelector('#' + key + ' button');\n",
              "      quickchartButtonEl.disabled = true;  // To prevent multiple clicks.\n",
              "      quickchartButtonEl.classList.add('colab-df-spinner');\n",
              "      try {\n",
              "        const charts = await google.colab.kernel.invokeFunction(\n",
              "            'suggestCharts', [key], {});\n",
              "      } catch (error) {\n",
              "        console.error('Error during call to suggestCharts:', error);\n",
              "      }\n",
              "      quickchartButtonEl.classList.remove('colab-df-spinner');\n",
              "      quickchartButtonEl.classList.add('colab-df-quickchart-complete');\n",
              "    }\n",
              "    (() => {\n",
              "      let quickchartButtonEl =\n",
              "        document.querySelector('#df-00491539-6c7c-46b2-8c50-6bf2ad3d168b button');\n",
              "      quickchartButtonEl.style.display =\n",
              "        google.colab.kernel.accessAllowed ? 'block' : 'none';\n",
              "    })();\n",
              "  </script>\n",
              "</div>\n",
              "    </div>\n",
              "  </div>\n"
            ],
            "application/vnd.google.colaboratory.intrinsic+json": {
              "type": "dataframe"
            }
          },
          "metadata": {},
          "execution_count": 18
        }
      ]
    },
    {
      "cell_type": "code",
      "source": [
        "df[df['fuel_consumption'].isnull() == False].loc[:, ['engine_volume_cc', 'fuel_consumption']]"
      ],
      "metadata": {
        "colab": {
          "base_uri": "https://localhost:8080/",
          "height": 424
        },
        "id": "qJ5QguNgF1g-",
        "outputId": "d2b89479-54a0-4ef2-e7a2-3a38264e9ee4"
      },
      "execution_count": 19,
      "outputs": [
        {
          "output_type": "execute_result",
          "data": {
            "text/plain": [
              "         engine_volume_cc  fuel_consumption\n",
              "2                  2500.0              20.0\n",
              "12                 3000.0              28.0\n",
              "38                 1500.0              32.0\n",
              "40                 3500.0              21.0\n",
              "41                 3600.0              22.0\n",
              "...                   ...               ...\n",
              "1000214            3600.0              15.0\n",
              "1000215            2500.0              34.0\n",
              "1000216            3600.0              22.0\n",
              "1000217            2300.0              26.0\n",
              "1000218            3500.0              20.0\n",
              "\n",
              "[836933 rows x 2 columns]"
            ],
            "text/html": [
              "\n",
              "  <div id=\"df-e2853817-c499-41b6-a361-ced9ef02accc\" class=\"colab-df-container\">\n",
              "    <div>\n",
              "<style scoped>\n",
              "    .dataframe tbody tr th:only-of-type {\n",
              "        vertical-align: middle;\n",
              "    }\n",
              "\n",
              "    .dataframe tbody tr th {\n",
              "        vertical-align: top;\n",
              "    }\n",
              "\n",
              "    .dataframe thead th {\n",
              "        text-align: right;\n",
              "    }\n",
              "</style>\n",
              "<table border=\"1\" class=\"dataframe\">\n",
              "  <thead>\n",
              "    <tr style=\"text-align: right;\">\n",
              "      <th></th>\n",
              "      <th>engine_volume_cc</th>\n",
              "      <th>fuel_consumption</th>\n",
              "    </tr>\n",
              "  </thead>\n",
              "  <tbody>\n",
              "    <tr>\n",
              "      <th>2</th>\n",
              "      <td>2500.0</td>\n",
              "      <td>20.0</td>\n",
              "    </tr>\n",
              "    <tr>\n",
              "      <th>12</th>\n",
              "      <td>3000.0</td>\n",
              "      <td>28.0</td>\n",
              "    </tr>\n",
              "    <tr>\n",
              "      <th>38</th>\n",
              "      <td>1500.0</td>\n",
              "      <td>32.0</td>\n",
              "    </tr>\n",
              "    <tr>\n",
              "      <th>40</th>\n",
              "      <td>3500.0</td>\n",
              "      <td>21.0</td>\n",
              "    </tr>\n",
              "    <tr>\n",
              "      <th>41</th>\n",
              "      <td>3600.0</td>\n",
              "      <td>22.0</td>\n",
              "    </tr>\n",
              "    <tr>\n",
              "      <th>...</th>\n",
              "      <td>...</td>\n",
              "      <td>...</td>\n",
              "    </tr>\n",
              "    <tr>\n",
              "      <th>1000214</th>\n",
              "      <td>3600.0</td>\n",
              "      <td>15.0</td>\n",
              "    </tr>\n",
              "    <tr>\n",
              "      <th>1000215</th>\n",
              "      <td>2500.0</td>\n",
              "      <td>34.0</td>\n",
              "    </tr>\n",
              "    <tr>\n",
              "      <th>1000216</th>\n",
              "      <td>3600.0</td>\n",
              "      <td>22.0</td>\n",
              "    </tr>\n",
              "    <tr>\n",
              "      <th>1000217</th>\n",
              "      <td>2300.0</td>\n",
              "      <td>26.0</td>\n",
              "    </tr>\n",
              "    <tr>\n",
              "      <th>1000218</th>\n",
              "      <td>3500.0</td>\n",
              "      <td>20.0</td>\n",
              "    </tr>\n",
              "  </tbody>\n",
              "</table>\n",
              "<p>836933 rows × 2 columns</p>\n",
              "</div>\n",
              "    <div class=\"colab-df-buttons\">\n",
              "\n",
              "  <div class=\"colab-df-container\">\n",
              "    <button class=\"colab-df-convert\" onclick=\"convertToInteractive('df-e2853817-c499-41b6-a361-ced9ef02accc')\"\n",
              "            title=\"Convert this dataframe to an interactive table.\"\n",
              "            style=\"display:none;\">\n",
              "\n",
              "  <svg xmlns=\"http://www.w3.org/2000/svg\" height=\"24px\" viewBox=\"0 -960 960 960\">\n",
              "    <path d=\"M120-120v-720h720v720H120Zm60-500h600v-160H180v160Zm220 220h160v-160H400v160Zm0 220h160v-160H400v160ZM180-400h160v-160H180v160Zm440 0h160v-160H620v160ZM180-180h160v-160H180v160Zm440 0h160v-160H620v160Z\"/>\n",
              "  </svg>\n",
              "    </button>\n",
              "\n",
              "  <style>\n",
              "    .colab-df-container {\n",
              "      display:flex;\n",
              "      gap: 12px;\n",
              "    }\n",
              "\n",
              "    .colab-df-convert {\n",
              "      background-color: #E8F0FE;\n",
              "      border: none;\n",
              "      border-radius: 50%;\n",
              "      cursor: pointer;\n",
              "      display: none;\n",
              "      fill: #1967D2;\n",
              "      height: 32px;\n",
              "      padding: 0 0 0 0;\n",
              "      width: 32px;\n",
              "    }\n",
              "\n",
              "    .colab-df-convert:hover {\n",
              "      background-color: #E2EBFA;\n",
              "      box-shadow: 0px 1px 2px rgba(60, 64, 67, 0.3), 0px 1px 3px 1px rgba(60, 64, 67, 0.15);\n",
              "      fill: #174EA6;\n",
              "    }\n",
              "\n",
              "    .colab-df-buttons div {\n",
              "      margin-bottom: 4px;\n",
              "    }\n",
              "\n",
              "    [theme=dark] .colab-df-convert {\n",
              "      background-color: #3B4455;\n",
              "      fill: #D2E3FC;\n",
              "    }\n",
              "\n",
              "    [theme=dark] .colab-df-convert:hover {\n",
              "      background-color: #434B5C;\n",
              "      box-shadow: 0px 1px 3px 1px rgba(0, 0, 0, 0.15);\n",
              "      filter: drop-shadow(0px 1px 2px rgba(0, 0, 0, 0.3));\n",
              "      fill: #FFFFFF;\n",
              "    }\n",
              "  </style>\n",
              "\n",
              "    <script>\n",
              "      const buttonEl =\n",
              "        document.querySelector('#df-e2853817-c499-41b6-a361-ced9ef02accc button.colab-df-convert');\n",
              "      buttonEl.style.display =\n",
              "        google.colab.kernel.accessAllowed ? 'block' : 'none';\n",
              "\n",
              "      async function convertToInteractive(key) {\n",
              "        const element = document.querySelector('#df-e2853817-c499-41b6-a361-ced9ef02accc');\n",
              "        const dataTable =\n",
              "          await google.colab.kernel.invokeFunction('convertToInteractive',\n",
              "                                                    [key], {});\n",
              "        if (!dataTable) return;\n",
              "\n",
              "        const docLinkHtml = 'Like what you see? Visit the ' +\n",
              "          '<a target=\"_blank\" href=https://colab.research.google.com/notebooks/data_table.ipynb>data table notebook</a>'\n",
              "          + ' to learn more about interactive tables.';\n",
              "        element.innerHTML = '';\n",
              "        dataTable['output_type'] = 'display_data';\n",
              "        await google.colab.output.renderOutput(dataTable, element);\n",
              "        const docLink = document.createElement('div');\n",
              "        docLink.innerHTML = docLinkHtml;\n",
              "        element.appendChild(docLink);\n",
              "      }\n",
              "    </script>\n",
              "  </div>\n",
              "\n",
              "\n",
              "<div id=\"df-caed987d-dec9-4da2-9a2c-bbb51f5e4699\">\n",
              "  <button class=\"colab-df-quickchart\" onclick=\"quickchart('df-caed987d-dec9-4da2-9a2c-bbb51f5e4699')\"\n",
              "            title=\"Suggest charts\"\n",
              "            style=\"display:none;\">\n",
              "\n",
              "<svg xmlns=\"http://www.w3.org/2000/svg\" height=\"24px\"viewBox=\"0 0 24 24\"\n",
              "     width=\"24px\">\n",
              "    <g>\n",
              "        <path d=\"M19 3H5c-1.1 0-2 .9-2 2v14c0 1.1.9 2 2 2h14c1.1 0 2-.9 2-2V5c0-1.1-.9-2-2-2zM9 17H7v-7h2v7zm4 0h-2V7h2v10zm4 0h-2v-4h2v4z\"/>\n",
              "    </g>\n",
              "</svg>\n",
              "  </button>\n",
              "\n",
              "<style>\n",
              "  .colab-df-quickchart {\n",
              "      --bg-color: #E8F0FE;\n",
              "      --fill-color: #1967D2;\n",
              "      --hover-bg-color: #E2EBFA;\n",
              "      --hover-fill-color: #174EA6;\n",
              "      --disabled-fill-color: #AAA;\n",
              "      --disabled-bg-color: #DDD;\n",
              "  }\n",
              "\n",
              "  [theme=dark] .colab-df-quickchart {\n",
              "      --bg-color: #3B4455;\n",
              "      --fill-color: #D2E3FC;\n",
              "      --hover-bg-color: #434B5C;\n",
              "      --hover-fill-color: #FFFFFF;\n",
              "      --disabled-bg-color: #3B4455;\n",
              "      --disabled-fill-color: #666;\n",
              "  }\n",
              "\n",
              "  .colab-df-quickchart {\n",
              "    background-color: var(--bg-color);\n",
              "    border: none;\n",
              "    border-radius: 50%;\n",
              "    cursor: pointer;\n",
              "    display: none;\n",
              "    fill: var(--fill-color);\n",
              "    height: 32px;\n",
              "    padding: 0;\n",
              "    width: 32px;\n",
              "  }\n",
              "\n",
              "  .colab-df-quickchart:hover {\n",
              "    background-color: var(--hover-bg-color);\n",
              "    box-shadow: 0 1px 2px rgba(60, 64, 67, 0.3), 0 1px 3px 1px rgba(60, 64, 67, 0.15);\n",
              "    fill: var(--button-hover-fill-color);\n",
              "  }\n",
              "\n",
              "  .colab-df-quickchart-complete:disabled,\n",
              "  .colab-df-quickchart-complete:disabled:hover {\n",
              "    background-color: var(--disabled-bg-color);\n",
              "    fill: var(--disabled-fill-color);\n",
              "    box-shadow: none;\n",
              "  }\n",
              "\n",
              "  .colab-df-spinner {\n",
              "    border: 2px solid var(--fill-color);\n",
              "    border-color: transparent;\n",
              "    border-bottom-color: var(--fill-color);\n",
              "    animation:\n",
              "      spin 1s steps(1) infinite;\n",
              "  }\n",
              "\n",
              "  @keyframes spin {\n",
              "    0% {\n",
              "      border-color: transparent;\n",
              "      border-bottom-color: var(--fill-color);\n",
              "      border-left-color: var(--fill-color);\n",
              "    }\n",
              "    20% {\n",
              "      border-color: transparent;\n",
              "      border-left-color: var(--fill-color);\n",
              "      border-top-color: var(--fill-color);\n",
              "    }\n",
              "    30% {\n",
              "      border-color: transparent;\n",
              "      border-left-color: var(--fill-color);\n",
              "      border-top-color: var(--fill-color);\n",
              "      border-right-color: var(--fill-color);\n",
              "    }\n",
              "    40% {\n",
              "      border-color: transparent;\n",
              "      border-right-color: var(--fill-color);\n",
              "      border-top-color: var(--fill-color);\n",
              "    }\n",
              "    60% {\n",
              "      border-color: transparent;\n",
              "      border-right-color: var(--fill-color);\n",
              "    }\n",
              "    80% {\n",
              "      border-color: transparent;\n",
              "      border-right-color: var(--fill-color);\n",
              "      border-bottom-color: var(--fill-color);\n",
              "    }\n",
              "    90% {\n",
              "      border-color: transparent;\n",
              "      border-bottom-color: var(--fill-color);\n",
              "    }\n",
              "  }\n",
              "</style>\n",
              "\n",
              "  <script>\n",
              "    async function quickchart(key) {\n",
              "      const quickchartButtonEl =\n",
              "        document.querySelector('#' + key + ' button');\n",
              "      quickchartButtonEl.disabled = true;  // To prevent multiple clicks.\n",
              "      quickchartButtonEl.classList.add('colab-df-spinner');\n",
              "      try {\n",
              "        const charts = await google.colab.kernel.invokeFunction(\n",
              "            'suggestCharts', [key], {});\n",
              "      } catch (error) {\n",
              "        console.error('Error during call to suggestCharts:', error);\n",
              "      }\n",
              "      quickchartButtonEl.classList.remove('colab-df-spinner');\n",
              "      quickchartButtonEl.classList.add('colab-df-quickchart-complete');\n",
              "    }\n",
              "    (() => {\n",
              "      let quickchartButtonEl =\n",
              "        document.querySelector('#df-caed987d-dec9-4da2-9a2c-bbb51f5e4699 button');\n",
              "      quickchartButtonEl.style.display =\n",
              "        google.colab.kernel.accessAllowed ? 'block' : 'none';\n",
              "    })();\n",
              "  </script>\n",
              "</div>\n",
              "    </div>\n",
              "  </div>\n"
            ],
            "application/vnd.google.colaboratory.intrinsic+json": {
              "type": "dataframe"
            }
          },
          "metadata": {},
          "execution_count": 19
        }
      ]
    },
    {
      "cell_type": "code",
      "source": [
        "fuel = df[df['fuel_consumption'].isnull() == False].loc[:, ['engine_volume_cc', 'fuel_consumption']]\n",
        "\n",
        "sn.color_palette(\"rocket\")\n",
        "\n",
        "fuel.plot(kind='scatter', x='engine_volume_cc', y='fuel_consumption', s=32, alpha=.8, c='fuel_consumption', cmap='viridis_r')\n",
        "plt.gca().spines[['top', 'right',]].set_visible(False)"
      ],
      "metadata": {
        "colab": {
          "base_uri": "https://localhost:8080/",
          "height": 455
        },
        "id": "pdWadynsGe_j",
        "outputId": "69698f87-1316-4db3-dcff-1c5f84367e10"
      },
      "execution_count": 20,
      "outputs": [
        {
          "output_type": "display_data",
          "data": {
            "text/plain": [
              "<Figure size 640x480 with 2 Axes>"
            ],
            "image/png": "[encoded data removed]"
          },
          "metadata": {}
        }
      ]
    },
    {
      "cell_type": "code",
      "source": [
        "plt.figure(figsize = (12,9))\n",
        "# cmap = crest, YlGnBu\n",
        "sn.heatmap(df.iloc[:,2:].corr(), cmap=sn.cubehelix_palette(as_cmap=True), annot=True)"
      ],
      "metadata": {
        "colab": {
          "base_uri": "https://localhost:8080/",
          "height": 945
        },
        "id": "tnLoLskaQze2",
        "outputId": "e4329cd2-108b-4631-bd65-91c3888030d2"
      },
      "execution_count": 21,
      "outputs": [
        {
          "output_type": "stream",
          "name": "stderr",
          "text": [
            "<ipython-input-21-3c18d78cea59>:3: FutureWarning: The default value of numeric_only in DataFrame.corr is deprecated. In a future version, it will default to False. Select only valid columns or specify the value of numeric_only to silence this warning.\n",
            "  sn.heatmap(df.iloc[:,2:].corr(), cmap=sn.cubehelix_palette(as_cmap=True), annot=True)\n"
          ]
        },
        {
          "output_type": "execute_result",
          "data": {
            "text/plain": [
              "<Axes: >"
            ]
          },
          "metadata": {},
          "execution_count": 21
        },
        {
          "output_type": "display_data",
          "data": {
            "text/plain": [
              "<Figure size 1200x900 with 2 Axes>"
            ],
            "image/png": "[encoded data removed]"
          },
          "metadata": {}
        }
      ]
    },
    {
      "cell_type": "markdown",
      "source": [
        "## $Q7$"
      ],
      "metadata": {
        "id": "ATDSR7iJJepI"
      }
    },
    {
      "cell_type": "markdown",
      "source": [
        "Which manufacturer has the most advertising of hybrid cars"
      ],
      "metadata": {
        "id": "H4Q8LRltoDyM"
      }
    },
    {
      "cell_type": "code",
      "source": [
        "df['fuel_type'].unique()"
      ],
      "metadata": {
        "colab": {
          "base_uri": "https://localhost:8080/"
        },
        "id": "B55hUkF5Jfly",
        "outputId": "70c39b6d-1274-4efb-e736-c113b81b83e6"
      },
      "execution_count": 22,
      "outputs": [
        {
          "output_type": "execute_result",
          "data": {
            "text/plain": [
              "array(['Gasoline', 'Diesel', nan, 'Biodiesel', 'Flex Fuel Vehicle',\n",
              "       'Electric', 'Hybrid', 'Compressed Natural Gas'], dtype=object)"
            ]
          },
          "metadata": {},
          "execution_count": 22
        }
      ]
    },
    {
      "cell_type": "code",
      "source": [
        "df[df['fuel_type'] == 'Hybrid']['manufacturer'].value_counts()"
      ],
      "metadata": {
        "colab": {
          "base_uri": "https://localhost:8080/"
        },
        "id": "WUBKsmtqJ-Wt",
        "outputId": "d1bd0a6a-eee6-4ba8-fd03-5c25a828ba4b"
      },
      "execution_count": 23,
      "outputs": [
        {
          "output_type": "execute_result",
          "data": {
            "text/plain": [
              "Toyota           10077\n",
              "Ford              5304\n",
              "Honda             3151\n",
              "Lexus             1676\n",
              "Kia               1060\n",
              "Hyundai           1051\n",
              "Lincoln            464\n",
              "Acura              119\n",
              "Chevrolet           89\n",
              "Subaru              47\n",
              "Nissan              46\n",
              "INFINITI            27\n",
              "Volkswagen          21\n",
              "Mercury             18\n",
              "GMC                 16\n",
              "Cadillac             8\n",
              "Porsche              8\n",
              "Audi                 6\n",
              "BMW                  3\n",
              "Mercedes-Benz        2\n",
              "Name: manufacturer, dtype: int64"
            ]
          },
          "metadata": {},
          "execution_count": 23
        }
      ]
    },
    {
      "cell_type": "markdown",
      "source": [
        "## $Q8$"
      ],
      "metadata": {
        "id": "_OXvBL9wIhGd"
      }
    },
    {
      "cell_type": "markdown",
      "source": [
        "What percentage of advertising cars were classified as a new car?"
      ],
      "metadata": {
        "id": "OmkBxuaYoTnX"
      }
    },
    {
      "cell_type": "code",
      "source": [
        "(df[df['is_new'] == 1]['Column1'].count() / df.shape[0]) * 100"
      ],
      "metadata": {
        "colab": {
          "base_uri": "https://localhost:8080/"
        },
        "id": "BSuuqTLxIg0w",
        "outputId": "3273d656-542c-48a6-ef9f-6ad96e383b80"
      },
      "execution_count": 24,
      "outputs": [
        {
          "output_type": "execute_result",
          "data": {
            "text/plain": [
              "47.86426986063066"
            ]
          },
          "metadata": {},
          "execution_count": 24
        }
      ]
    },
    {
      "cell_type": "markdown",
      "source": [
        "## $Q9$"
      ],
      "metadata": {
        "id": "vtK4mFNnKc6g"
      }
    },
    {
      "cell_type": "markdown",
      "source": [
        "Compare cars with more than 2 years old and less than 2"
      ],
      "metadata": {
        "id": "aDTISSiNoWYs"
      }
    },
    {
      "cell_type": "code",
      "source": [
        "from datetime import datetime\n",
        "\n",
        "current_year = datetime.now().year\n",
        "\n",
        "df[current_year - df['year'] > 2]['price'].mean()"
      ],
      "metadata": {
        "colab": {
          "base_uri": "https://localhost:8080/"
        },
        "id": "Mz9LcbiWI9Si",
        "outputId": "420e7cfd-d888-4f12-9e6f-e7194292580d"
      },
      "execution_count": 25,
      "outputs": [
        {
          "output_type": "execute_result",
          "data": {
            "text/plain": [
              "29460.776542160726"
            ]
          },
          "metadata": {},
          "execution_count": 25
        }
      ]
    },
    {
      "cell_type": "code",
      "source": [
        "df[current_year - df['year'] <= 2]"
      ],
      "metadata": {
        "colab": {
          "base_uri": "https://localhost:8080/",
          "height": 73
        },
        "id": "PcpM0QfDMHW2",
        "outputId": "dfbb0ced-e04e-494d-f04c-316fa020577d"
      },
      "execution_count": 26,
      "outputs": [
        {
          "output_type": "execute_result",
          "data": {
            "text/plain": [
              "Empty DataFrame\n",
              "Columns: [Column1, listing_id, listed_date, city, manufacturer, model, year, color, price, body_type, engine_volume_cc, fuel_consumption, fuel_type, is_new, maximum_seating, mileage, horsepower, transmission, has_accidents, days_on_market]\n",
              "Index: []"
            ],
            "text/html": [
              "\n",
              "  <div id=\"df-60041038-cec2-4bad-961d-70af99dcf497\" class=\"colab-df-container\">\n",
              "    <div>\n",
              "<style scoped>\n",
              "    .dataframe tbody tr th:only-of-type {\n",
              "        vertical-align: middle;\n",
              "    }\n",
              "\n",
              "    .dataframe tbody tr th {\n",
              "        vertical-align: top;\n",
              "    }\n",
              "\n",
              "    .dataframe thead th {\n",
              "        text-align: right;\n",
              "    }\n",
              "</style>\n",
              "<table border=\"1\" class=\"dataframe\">\n",
              "  <thead>\n",
              "    <tr style=\"text-align: right;\">\n",
              "      <th></th>\n",
              "      <th>Column1</th>\n",
              "      <th>listing_id</th>\n",
              "      <th>listed_date</th>\n",
              "      <th>city</th>\n",
              "      <th>manufacturer</th>\n",
              "      <th>model</th>\n",
              "      <th>year</th>\n",
              "      <th>color</th>\n",
              "      <th>price</th>\n",
              "      <th>body_type</th>\n",
              "      <th>engine_volume_cc</th>\n",
              "      <th>fuel_consumption</th>\n",
              "      <th>fuel_type</th>\n",
              "      <th>is_new</th>\n",
              "      <th>maximum_seating</th>\n",
              "      <th>mileage</th>\n",
              "      <th>horsepower</th>\n",
              "      <th>transmission</th>\n",
              "      <th>has_accidents</th>\n",
              "      <th>days_on_market</th>\n",
              "    </tr>\n",
              "  </thead>\n",
              "  <tbody>\n",
              "  </tbody>\n",
              "</table>\n",
              "</div>\n",
              "    <div class=\"colab-df-buttons\">\n",
              "\n",
              "  <div class=\"colab-df-container\">\n",
              "    <button class=\"colab-df-convert\" onclick=\"convertToInteractive('df-60041038-cec2-4bad-961d-70af99dcf497')\"\n",
              "            title=\"Convert this dataframe to an interactive table.\"\n",
              "            style=\"display:none;\">\n",
              "\n",
              "  <svg xmlns=\"http://www.w3.org/2000/svg\" height=\"24px\" viewBox=\"0 -960 960 960\">\n",
              "    <path d=\"M120-120v-720h720v720H120Zm60-500h600v-160H180v160Zm220 220h160v-160H400v160Zm0 220h160v-160H400v160ZM180-400h160v-160H180v160Zm440 0h160v-160H620v160ZM180-180h160v-160H180v160Zm440 0h160v-160H620v160Z\"/>\n",
              "  </svg>\n",
              "    </button>\n",
              "\n",
              "  <style>\n",
              "    .colab-df-container {\n",
              "      display:flex;\n",
              "      gap: 12px;\n",
              "    }\n",
              "\n",
              "    .colab-df-convert {\n",
              "      background-color: #E8F0FE;\n",
              "      border: none;\n",
              "      border-radius: 50%;\n",
              "      cursor: pointer;\n",
              "      display: none;\n",
              "      fill: #1967D2;\n",
              "      height: 32px;\n",
              "      padding: 0 0 0 0;\n",
              "      width: 32px;\n",
              "    }\n",
              "\n",
              "    .colab-df-convert:hover {\n",
              "      background-color: #E2EBFA;\n",
              "      box-shadow: 0px 1px 2px rgba(60, 64, 67, 0.3), 0px 1px 3px 1px rgba(60, 64, 67, 0.15);\n",
              "      fill: #174EA6;\n",
              "    }\n",
              "\n",
              "    .colab-df-buttons div {\n",
              "      margin-bottom: 4px;\n",
              "    }\n",
              "\n",
              "    [theme=dark] .colab-df-convert {\n",
              "      background-color: #3B4455;\n",
              "      fill: #D2E3FC;\n",
              "    }\n",
              "\n",
              "    [theme=dark] .colab-df-convert:hover {\n",
              "      background-color: #434B5C;\n",
              "      box-shadow: 0px 1px 3px 1px rgba(0, 0, 0, 0.15);\n",
              "      filter: drop-shadow(0px 1px 2px rgba(0, 0, 0, 0.3));\n",
              "      fill: #FFFFFF;\n",
              "    }\n",
              "  </style>\n",
              "\n",
              "    <script>\n",
              "      const buttonEl =\n",
              "        document.querySelector('#df-60041038-cec2-4bad-961d-70af99dcf497 button.colab-df-convert');\n",
              "      buttonEl.style.display =\n",
              "        google.colab.kernel.accessAllowed ? 'block' : 'none';\n",
              "\n",
              "      async function convertToInteractive(key) {\n",
              "        const element = document.querySelector('#df-60041038-cec2-4bad-961d-70af99dcf497');\n",
              "        const dataTable =\n",
              "          await google.colab.kernel.invokeFunction('convertToInteractive',\n",
              "                                                    [key], {});\n",
              "        if (!dataTable) return;\n",
              "\n",
              "        const docLinkHtml = 'Like what you see? Visit the ' +\n",
              "          '<a target=\"_blank\" href=https://colab.research.google.com/notebooks/data_table.ipynb>data table notebook</a>'\n",
              "          + ' to learn more about interactive tables.';\n",
              "        element.innerHTML = '';\n",
              "        dataTable['output_type'] = 'display_data';\n",
              "        await google.colab.output.renderOutput(dataTable, element);\n",
              "        const docLink = document.createElement('div');\n",
              "        docLink.innerHTML = docLinkHtml;\n",
              "        element.appendChild(docLink);\n",
              "      }\n",
              "    </script>\n",
              "  </div>\n",
              "\n",
              "    </div>\n",
              "  </div>\n"
            ],
            "application/vnd.google.colaboratory.intrinsic+json": {
              "type": "dataframe",
              "repr_error": "Out of range float values are not JSON compliant: nan"
            }
          },
          "metadata": {},
          "execution_count": 26
        }
      ]
    },
    {
      "cell_type": "code",
      "source": [
        "df['year'].max()"
      ],
      "metadata": {
        "colab": {
          "base_uri": "https://localhost:8080/"
        },
        "id": "RxqbkbNXLAoF",
        "outputId": "c5559b81-817e-424c-fa16-5e94413ff2cb"
      },
      "execution_count": 27,
      "outputs": [
        {
          "output_type": "execute_result",
          "data": {
            "text/plain": [
              "2021"
            ]
          },
          "metadata": {},
          "execution_count": 27
        }
      ]
    },
    {
      "cell_type": "markdown",
      "source": [
        "Based on this result, the dataset does not have any advertising car that is less than 2 years old."
      ],
      "metadata": {
        "id": "ihx2W3hX9O7I"
      }
    },
    {
      "cell_type": "code",
      "source": [
        "df[df['is_new'] == 1]['price'].mean()"
      ],
      "metadata": {
        "colab": {
          "base_uri": "https://localhost:8080/"
        },
        "id": "Xzfj8KIxVS7x",
        "outputId": "ca768de3-2909-406a-a375-359fdd60eff0"
      },
      "execution_count": 28,
      "outputs": [
        {
          "output_type": "execute_result",
          "data": {
            "text/plain": [
              "37388.24435611219"
            ]
          },
          "metadata": {},
          "execution_count": 28
        }
      ]
    },
    {
      "cell_type": "code",
      "source": [
        "df[df['is_new'] == 0]['price'].mean()"
      ],
      "metadata": {
        "colab": {
          "base_uri": "https://localhost:8080/"
        },
        "id": "U23l7cTdVbYP",
        "outputId": "1904f120-3512-4a84-cd32-9e4aba5cc5a1"
      },
      "execution_count": 29,
      "outputs": [
        {
          "output_type": "execute_result",
          "data": {
            "text/plain": [
              "22182.80311119293"
            ]
          },
          "metadata": {},
          "execution_count": 29
        }
      ]
    },
    {
      "cell_type": "markdown",
      "source": [
        "## $Q10$"
      ],
      "metadata": {
        "id": "rF99Z-1SM1gd"
      }
    },
    {
      "cell_type": "markdown",
      "source": [
        "What percentage of advertised cars had an accident?"
      ],
      "metadata": {
        "id": "DGMRP15TofSx"
      }
    },
    {
      "cell_type": "code",
      "source": [
        "(df.loc[df['has_accidents'] == 1.0,:]['Column1'].count() / df.shape[0]) * 100"
      ],
      "metadata": {
        "colab": {
          "base_uri": "https://localhost:8080/"
        },
        "id": "ors_IoNzLss-",
        "outputId": "9659f51b-2200-430d-ea57-0e2f18f529bb"
      },
      "execution_count": 30,
      "outputs": [
        {
          "output_type": "execute_result",
          "data": {
            "text/plain": [
              "8.690588070624463"
            ]
          },
          "metadata": {},
          "execution_count": 30
        }
      ]
    },
    {
      "cell_type": "markdown",
      "source": [
        "## $Q11$"
      ],
      "metadata": {
        "id": "bnLvIhowSSQI"
      }
    },
    {
      "cell_type": "markdown",
      "source": [
        "Which brand of advertised cars sells faster?"
      ],
      "metadata": {
        "id": "VbK_2zl-psCV"
      }
    },
    {
      "cell_type": "code",
      "source": [
        "df.groupby('manufacturer')['days_on_market'].mean().sort_values(ascending=True)"
      ],
      "metadata": {
        "colab": {
          "base_uri": "https://localhost:8080/"
        },
        "id": "NTOFsjRISUZj",
        "outputId": "bfa85a4e-0fb1-4c49-a3d0-c6d3f563066a"
      },
      "execution_count": 31,
      "outputs": [
        {
          "output_type": "execute_result",
          "data": {
            "text/plain": [
              "manufacturer\n",
              "Edsel           22.00\n",
              "Opel            24.50\n",
              "Sunbeam         25.00\n",
              "Hudson          26.00\n",
              "Geo             37.00\n",
              "                ...  \n",
              "Datsun         413.75\n",
              "Kaiser         441.00\n",
              "Spyker         463.00\n",
              "Willys         537.00\n",
              "Pininfarina    603.50\n",
              "Name: days_on_market, Length: 80, dtype: float64"
            ]
          },
          "metadata": {},
          "execution_count": 31
        }
      ]
    },
    {
      "cell_type": "markdown",
      "source": [
        "## $Q12$"
      ],
      "metadata": {
        "id": "vm7LC03BTB57"
      }
    },
    {
      "cell_type": "markdown",
      "source": [
        "Based on advertisements, which parameter causes sales much more time?"
      ],
      "metadata": {
        "id": "QzEUMqCaqJRj"
      }
    },
    {
      "cell_type": "code",
      "source": [
        "df.sort_values(by='days_on_market', ascending=False).iloc[:1000,:]"
      ],
      "metadata": {
        "colab": {
          "base_uri": "https://localhost:8080/",
          "height": 565
        },
        "id": "4fC679zcZiaH",
        "outputId": "4014b90e-fe05-4fb0-acb4-81f2ee7ff211"
      },
      "execution_count": 32,
      "outputs": [
        {
          "output_type": "execute_result",
          "data": {
            "text/plain": [
              "        Column1  listing_id listed_date           city   manufacturer  \\\n",
              "719796   719796    20498116  11/29/2010    Mifflintown       Chrysler   \n",
              "516698   516698    44361463   9/17/2012   Jersey Shore        Pontiac   \n",
              "731321   731321    55614488   3/21/2013    Shillington         Toyota   \n",
              "234088   234088    56631937    4/3/2013        Seekonk      Chevrolet   \n",
              "256981   256981    58515071    5/1/2013     Gibsonburg            GMC   \n",
              "...         ...         ...         ...            ...            ...   \n",
              "976565   976565   201692280   3/14/2018        Fremont     Mitsubishi   \n",
              "360530   360530   201902776   3/16/2018  Silver Spring  Mercedes-Benz   \n",
              "918989   918989   201865959   3/16/2018       Asheboro           Jeep   \n",
              "122550   122550   201829556   3/15/2018   Poughkeepsie            BMW   \n",
              "950217   950217   201913314   3/16/2018      Knoxville         Nissan   \n",
              "\n",
              "                model  year    color  price        body_type  \\\n",
              "719796        Prowler  2002     GOLD  49995      Convertible   \n",
              "516698       Firebird  1982      RED  36995        Hatchback   \n",
              "731321   Camry Solara  2005     BLUE   9995            Coupe   \n",
              "234088       Corvette  1960  UNKNOWN  24000            Coupe   \n",
              "256981    Sierra 1500  2007  UNKNOWN   9900     Pickup Truck   \n",
              "...               ...   ...      ...    ...              ...   \n",
              "976565  Eclipse Cross  2018      RED  22000  SUV / Crossover   \n",
              "360530      GLE-Class  2018  UNKNOWN  62265  SUV / Crossover   \n",
              "918989       Cherokee  2019   SILVER  24489  SUV / Crossover   \n",
              "122550             X1  2017     GRAY  33500  SUV / Crossover   \n",
              "950217     Pathfinder  2005      RED   4900  SUV / Crossover   \n",
              "\n",
              "        engine_volume_cc  fuel_consumption fuel_type  is_new maximum_seating  \\\n",
              "719796            3500.0              18.0  Gasoline       0         2 seats   \n",
              "516698               NaN               NaN  Gasoline       0             NaN   \n",
              "731321               NaN               NaN  Gasoline       0             NaN   \n",
              "234088               NaN               NaN       NaN       0             NaN   \n",
              "256981            6000.0              16.0  Gasoline       0         5 seats   \n",
              "...                  ...               ...       ...     ...             ...   \n",
              "976565            1500.0              26.0  Gasoline       0         5 seats   \n",
              "360530            3500.0              20.0  Gasoline       1         5 seats   \n",
              "918989            2000.0              27.0  Gasoline       1         5 seats   \n",
              "122550            2000.0              26.0  Gasoline       0         5 seats   \n",
              "950217            4000.0              18.0  Gasoline       0         7 seats   \n",
              "\n",
              "         mileage  horsepower transmission  has_accidents  days_on_market  \n",
              "719796     580.0       253.0            A            0.0            3573  \n",
              "516698     100.0         NaN            A            0.0            2915  \n",
              "731321  115002.0         NaN            A            0.0            2730  \n",
              "234088       NaN         NaN            M            0.0            2716  \n",
              "256981  225256.0       367.0            A            0.0            2688  \n",
              "...          ...         ...          ...            ...             ...  \n",
              "976565     633.0       152.0            A            0.0             911  \n",
              "360530    3500.0       302.0            A            0.0             909  \n",
              "918989       5.0       270.0            A            0.0             909  \n",
              "122550   17280.0       228.0            A            0.0             909  \n",
              "950217  193500.0       270.0            A            0.0             909  \n",
              "\n",
              "[1000 rows x 20 columns]"
            ],
            "text/html": [
              "\n",
              "  <div id=\"df-d4453af5-ac8f-4302-9722-e93b25b0a13d\" class=\"colab-df-container\">\n",
              "    <div>\n",
              "<style scoped>\n",
              "    .dataframe tbody tr th:only-of-type {\n",
              "        vertical-align: middle;\n",
              "    }\n",
              "\n",
              "    .dataframe tbody tr th {\n",
              "        vertical-align: top;\n",
              "    }\n",
              "\n",
              "    .dataframe thead th {\n",
              "        text-align: right;\n",
              "    }\n",
              "</style>\n",
              "<table border=\"1\" class=\"dataframe\">\n",
              "  <thead>\n",
              "    <tr style=\"text-align: right;\">\n",
              "      <th></th>\n",
              "      <th>Column1</th>\n",
              "      <th>listing_id</th>\n",
              "      <th>listed_date</th>\n",
              "      <th>city</th>\n",
              "      <th>manufacturer</th>\n",
              "      <th>model</th>\n",
              "      <th>year</th>\n",
              "      <th>color</th>\n",
              "      <th>price</th>\n",
              "      <th>body_type</th>\n",
              "      <th>engine_volume_cc</th>\n",
              "      <th>fuel_consumption</th>\n",
              "      <th>fuel_type</th>\n",
              "      <th>is_new</th>\n",
              "      <th>maximum_seating</th>\n",
              "      <th>mileage</th>\n",
              "      <th>horsepower</th>\n",
              "      <th>transmission</th>\n",
              "      <th>has_accidents</th>\n",
              "      <th>days_on_market</th>\n",
              "    </tr>\n",
              "  </thead>\n",
              "  <tbody>\n",
              "    <tr>\n",
              "      <th>719796</th>\n",
              "      <td>719796</td>\n",
              "      <td>20498116</td>\n",
              "      <td>11/29/2010</td>\n",
              "      <td>Mifflintown</td>\n",
              "      <td>Chrysler</td>\n",
              "      <td>Prowler</td>\n",
              "      <td>2002</td>\n",
              "      <td>GOLD</td>\n",
              "      <td>49995</td>\n",
              "      <td>Convertible</td>\n",
              "      <td>3500.0</td>\n",
              "      <td>18.0</td>\n",
              "      <td>Gasoline</td>\n",
              "      <td>0</td>\n",
              "      <td>2 seats</td>\n",
              "      <td>580.0</td>\n",
              "      <td>253.0</td>\n",
              "      <td>A</td>\n",
              "      <td>0.0</td>\n",
              "      <td>3573</td>\n",
              "    </tr>\n",
              "    <tr>\n",
              "      <th>516698</th>\n",
              "      <td>516698</td>\n",
              "      <td>44361463</td>\n",
              "      <td>9/17/2012</td>\n",
              "      <td>Jersey Shore</td>\n",
              "      <td>Pontiac</td>\n",
              "      <td>Firebird</td>\n",
              "      <td>1982</td>\n",
              "      <td>RED</td>\n",
              "      <td>36995</td>\n",
              "      <td>Hatchback</td>\n",
              "      <td>NaN</td>\n",
              "      <td>NaN</td>\n",
              "      <td>Gasoline</td>\n",
              "      <td>0</td>\n",
              "      <td>NaN</td>\n",
              "      <td>100.0</td>\n",
              "      <td>NaN</td>\n",
              "      <td>A</td>\n",
              "      <td>0.0</td>\n",
              "      <td>2915</td>\n",
              "    </tr>\n",
              "    <tr>\n",
              "      <th>731321</th>\n",
              "      <td>731321</td>\n",
              "      <td>55614488</td>\n",
              "      <td>3/21/2013</td>\n",
              "      <td>Shillington</td>\n",
              "      <td>Toyota</td>\n",
              "      <td>Camry Solara</td>\n",
              "      <td>2005</td>\n",
              "      <td>BLUE</td>\n",
              "      <td>9995</td>\n",
              "      <td>Coupe</td>\n",
              "      <td>NaN</td>\n",
              "      <td>NaN</td>\n",
              "      <td>Gasoline</td>\n",
              "      <td>0</td>\n",
              "      <td>NaN</td>\n",
              "      <td>115002.0</td>\n",
              "      <td>NaN</td>\n",
              "      <td>A</td>\n",
              "      <td>0.0</td>\n",
              "      <td>2730</td>\n",
              "    </tr>\n",
              "    <tr>\n",
              "      <th>234088</th>\n",
              "      <td>234088</td>\n",
              "      <td>56631937</td>\n",
              "      <td>4/3/2013</td>\n",
              "      <td>Seekonk</td>\n",
              "      <td>Chevrolet</td>\n",
              "      <td>Corvette</td>\n",
              "      <td>1960</td>\n",
              "      <td>UNKNOWN</td>\n",
              "      <td>24000</td>\n",
              "      <td>Coupe</td>\n",
              "      <td>NaN</td>\n",
              "      <td>NaN</td>\n",
              "      <td>NaN</td>\n",
              "      <td>0</td>\n",
              "      <td>NaN</td>\n",
              "      <td>NaN</td>\n",
              "      <td>NaN</td>\n",
              "      <td>M</td>\n",
              "      <td>0.0</td>\n",
              "      <td>2716</td>\n",
              "    </tr>\n",
              "    <tr>\n",
              "      <th>256981</th>\n",
              "      <td>256981</td>\n",
              "      <td>58515071</td>\n",
              "      <td>5/1/2013</td>\n",
              "      <td>Gibsonburg</td>\n",
              "      <td>GMC</td>\n",
              "      <td>Sierra 1500</td>\n",
              "      <td>2007</td>\n",
              "      <td>UNKNOWN</td>\n",
              "      <td>9900</td>\n",
              "      <td>Pickup Truck</td>\n",
              "      <td>6000.0</td>\n",
              "      <td>16.0</td>\n",
              "      <td>Gasoline</td>\n",
              "      <td>0</td>\n",
              "      <td>5 seats</td>\n",
              "      <td>225256.0</td>\n",
              "      <td>367.0</td>\n",
              "      <td>A</td>\n",
              "      <td>0.0</td>\n",
              "      <td>2688</td>\n",
              "    </tr>\n",
              "    <tr>\n",
              "      <th>...</th>\n",
              "      <td>...</td>\n",
              "      <td>...</td>\n",
              "      <td>...</td>\n",
              "      <td>...</td>\n",
              "      <td>...</td>\n",
              "      <td>...</td>\n",
              "      <td>...</td>\n",
              "      <td>...</td>\n",
              "      <td>...</td>\n",
              "      <td>...</td>\n",
              "      <td>...</td>\n",
              "      <td>...</td>\n",
              "      <td>...</td>\n",
              "      <td>...</td>\n",
              "      <td>...</td>\n",
              "      <td>...</td>\n",
              "      <td>...</td>\n",
              "      <td>...</td>\n",
              "      <td>...</td>\n",
              "      <td>...</td>\n",
              "    </tr>\n",
              "    <tr>\n",
              "      <th>976565</th>\n",
              "      <td>976565</td>\n",
              "      <td>201692280</td>\n",
              "      <td>3/14/2018</td>\n",
              "      <td>Fremont</td>\n",
              "      <td>Mitsubishi</td>\n",
              "      <td>Eclipse Cross</td>\n",
              "      <td>2018</td>\n",
              "      <td>RED</td>\n",
              "      <td>22000</td>\n",
              "      <td>SUV / Crossover</td>\n",
              "      <td>1500.0</td>\n",
              "      <td>26.0</td>\n",
              "      <td>Gasoline</td>\n",
              "      <td>0</td>\n",
              "      <td>5 seats</td>\n",
              "      <td>633.0</td>\n",
              "      <td>152.0</td>\n",
              "      <td>A</td>\n",
              "      <td>0.0</td>\n",
              "      <td>911</td>\n",
              "    </tr>\n",
              "    <tr>\n",
              "      <th>360530</th>\n",
              "      <td>360530</td>\n",
              "      <td>201902776</td>\n",
              "      <td>3/16/2018</td>\n",
              "      <td>Silver Spring</td>\n",
              "      <td>Mercedes-Benz</td>\n",
              "      <td>GLE-Class</td>\n",
              "      <td>2018</td>\n",
              "      <td>UNKNOWN</td>\n",
              "      <td>62265</td>\n",
              "      <td>SUV / Crossover</td>\n",
              "      <td>3500.0</td>\n",
              "      <td>20.0</td>\n",
              "      <td>Gasoline</td>\n",
              "      <td>1</td>\n",
              "      <td>5 seats</td>\n",
              "      <td>3500.0</td>\n",
              "      <td>302.0</td>\n",
              "      <td>A</td>\n",
              "      <td>0.0</td>\n",
              "      <td>909</td>\n",
              "    </tr>\n",
              "    <tr>\n",
              "      <th>918989</th>\n",
              "      <td>918989</td>\n",
              "      <td>201865959</td>\n",
              "      <td>3/16/2018</td>\n",
              "      <td>Asheboro</td>\n",
              "      <td>Jeep</td>\n",
              "      <td>Cherokee</td>\n",
              "      <td>2019</td>\n",
              "      <td>SILVER</td>\n",
              "      <td>24489</td>\n",
              "      <td>SUV / Crossover</td>\n",
              "      <td>2000.0</td>\n",
              "      <td>27.0</td>\n",
              "      <td>Gasoline</td>\n",
              "      <td>1</td>\n",
              "      <td>5 seats</td>\n",
              "      <td>5.0</td>\n",
              "      <td>270.0</td>\n",
              "      <td>A</td>\n",
              "      <td>0.0</td>\n",
              "      <td>909</td>\n",
              "    </tr>\n",
              "    <tr>\n",
              "      <th>122550</th>\n",
              "      <td>122550</td>\n",
              "      <td>201829556</td>\n",
              "      <td>3/15/2018</td>\n",
              "      <td>Poughkeepsie</td>\n",
              "      <td>BMW</td>\n",
              "      <td>X1</td>\n",
              "      <td>2017</td>\n",
              "      <td>GRAY</td>\n",
              "      <td>33500</td>\n",
              "      <td>SUV / Crossover</td>\n",
              "      <td>2000.0</td>\n",
              "      <td>26.0</td>\n",
              "      <td>Gasoline</td>\n",
              "      <td>0</td>\n",
              "      <td>5 seats</td>\n",
              "      <td>17280.0</td>\n",
              "      <td>228.0</td>\n",
              "      <td>A</td>\n",
              "      <td>0.0</td>\n",
              "      <td>909</td>\n",
              "    </tr>\n",
              "    <tr>\n",
              "      <th>950217</th>\n",
              "      <td>950217</td>\n",
              "      <td>201913314</td>\n",
              "      <td>3/16/2018</td>\n",
              "      <td>Knoxville</td>\n",
              "      <td>Nissan</td>\n",
              "      <td>Pathfinder</td>\n",
              "      <td>2005</td>\n",
              "      <td>RED</td>\n",
              "      <td>4900</td>\n",
              "      <td>SUV / Crossover</td>\n",
              "      <td>4000.0</td>\n",
              "      <td>18.0</td>\n",
              "      <td>Gasoline</td>\n",
              "      <td>0</td>\n",
              "      <td>7 seats</td>\n",
              "      <td>193500.0</td>\n",
              "      <td>270.0</td>\n",
              "      <td>A</td>\n",
              "      <td>0.0</td>\n",
              "      <td>909</td>\n",
              "    </tr>\n",
              "  </tbody>\n",
              "</table>\n",
              "<p>1000 rows × 20 columns</p>\n",
              "</div>\n",
              "    <div class=\"colab-df-buttons\">\n",
              "\n",
              "  <div class=\"colab-df-container\">\n",
              "    <button class=\"colab-df-convert\" onclick=\"convertToInteractive('df-d4453af5-ac8f-4302-9722-e93b25b0a13d')\"\n",
              "            title=\"Convert this dataframe to an interactive table.\"\n",
              "            style=\"display:none;\">\n",
              "\n",
              "  <svg xmlns=\"http://www.w3.org/2000/svg\" height=\"24px\" viewBox=\"0 -960 960 960\">\n",
              "    <path d=\"M120-120v-720h720v720H120Zm60-500h600v-160H180v160Zm220 220h160v-160H400v160Zm0 220h160v-160H400v160ZM180-400h160v-160H180v160Zm440 0h160v-160H620v160ZM180-180h160v-160H180v160Zm440 0h160v-160H620v160Z\"/>\n",
              "  </svg>\n",
              "    </button>\n",
              "\n",
              "  <style>\n",
              "    .colab-df-container {\n",
              "      display:flex;\n",
              "      gap: 12px;\n",
              "    }\n",
              "\n",
              "    .colab-df-convert {\n",
              "      background-color: #E8F0FE;\n",
              "      border: none;\n",
              "      border-radius: 50%;\n",
              "      cursor: pointer;\n",
              "      display: none;\n",
              "      fill: #1967D2;\n",
              "      height: 32px;\n",
              "      padding: 0 0 0 0;\n",
              "      width: 32px;\n",
              "    }\n",
              "\n",
              "    .colab-df-convert:hover {\n",
              "      background-color: #E2EBFA;\n",
              "      box-shadow: 0px 1px 2px rgba(60, 64, 67, 0.3), 0px 1px 3px 1px rgba(60, 64, 67, 0.15);\n",
              "      fill: #174EA6;\n",
              "    }\n",
              "\n",
              "    .colab-df-buttons div {\n",
              "      margin-bottom: 4px;\n",
              "    }\n",
              "\n",
              "    [theme=dark] .colab-df-convert {\n",
              "      background-color: #3B4455;\n",
              "      fill: #D2E3FC;\n",
              "    }\n",
              "\n",
              "    [theme=dark] .colab-df-convert:hover {\n",
              "      background-color: #434B5C;\n",
              "      box-shadow: 0px 1px 3px 1px rgba(0, 0, 0, 0.15);\n",
              "      filter: drop-shadow(0px 1px 2px rgba(0, 0, 0, 0.3));\n",
              "      fill: #FFFFFF;\n",
              "    }\n",
              "  </style>\n",
              "\n",
              "    <script>\n",
              "      const buttonEl =\n",
              "        document.querySelector('#df-d4453af5-ac8f-4302-9722-e93b25b0a13d button.colab-df-convert');\n",
              "      buttonEl.style.display =\n",
              "        google.colab.kernel.accessAllowed ? 'block' : 'none';\n",
              "\n",
              "      async function convertToInteractive(key) {\n",
              "        const element = document.querySelector('#df-d4453af5-ac8f-4302-9722-e93b25b0a13d');\n",
              "        const dataTable =\n",
              "          await google.colab.kernel.invokeFunction('convertToInteractive',\n",
              "                                                    [key], {});\n",
              "        if (!dataTable) return;\n",
              "\n",
              "        const docLinkHtml = 'Like what you see? Visit the ' +\n",
              "          '<a target=\"_blank\" href=https://colab.research.google.com/notebooks/data_table.ipynb>data table notebook</a>'\n",
              "          + ' to learn more about interactive tables.';\n",
              "        element.innerHTML = '';\n",
              "        dataTable['output_type'] = 'display_data';\n",
              "        await google.colab.output.renderOutput(dataTable, element);\n",
              "        const docLink = document.createElement('div');\n",
              "        docLink.innerHTML = docLinkHtml;\n",
              "        element.appendChild(docLink);\n",
              "      }\n",
              "    </script>\n",
              "  </div>\n",
              "\n",
              "\n",
              "<div id=\"df-ced85668-9673-4ef3-ad66-79a4bfead497\">\n",
              "  <button class=\"colab-df-quickchart\" onclick=\"quickchart('df-ced85668-9673-4ef3-ad66-79a4bfead497')\"\n",
              "            title=\"Suggest charts\"\n",
              "            style=\"display:none;\">\n",
              "\n",
              "<svg xmlns=\"http://www.w3.org/2000/svg\" height=\"24px\"viewBox=\"0 0 24 24\"\n",
              "     width=\"24px\">\n",
              "    <g>\n",
              "        <path d=\"M19 3H5c-1.1 0-2 .9-2 2v14c0 1.1.9 2 2 2h14c1.1 0 2-.9 2-2V5c0-1.1-.9-2-2-2zM9 17H7v-7h2v7zm4 0h-2V7h2v10zm4 0h-2v-4h2v4z\"/>\n",
              "    </g>\n",
              "</svg>\n",
              "  </button>\n",
              "\n",
              "<style>\n",
              "  .colab-df-quickchart {\n",
              "      --bg-color: #E8F0FE;\n",
              "      --fill-color: #1967D2;\n",
              "      --hover-bg-color: #E2EBFA;\n",
              "      --hover-fill-color: #174EA6;\n",
              "      --disabled-fill-color: #AAA;\n",
              "      --disabled-bg-color: #DDD;\n",
              "  }\n",
              "\n",
              "  [theme=dark] .colab-df-quickchart {\n",
              "      --bg-color: #3B4455;\n",
              "      --fill-color: #D2E3FC;\n",
              "      --hover-bg-color: #434B5C;\n",
              "      --hover-fill-color: #FFFFFF;\n",
              "      --disabled-bg-color: #3B4455;\n",
              "      --disabled-fill-color: #666;\n",
              "  }\n",
              "\n",
              "  .colab-df-quickchart {\n",
              "    background-color: var(--bg-color);\n",
              "    border: none;\n",
              "    border-radius: 50%;\n",
              "    cursor: pointer;\n",
              "    display: none;\n",
              "    fill: var(--fill-color);\n",
              "    height: 32px;\n",
              "    padding: 0;\n",
              "    width: 32px;\n",
              "  }\n",
              "\n",
              "  .colab-df-quickchart:hover {\n",
              "    background-color: var(--hover-bg-color);\n",
              "    box-shadow: 0 1px 2px rgba(60, 64, 67, 0.3), 0 1px 3px 1px rgba(60, 64, 67, 0.15);\n",
              "    fill: var(--button-hover-fill-color);\n",
              "  }\n",
              "\n",
              "  .colab-df-quickchart-complete:disabled,\n",
              "  .colab-df-quickchart-complete:disabled:hover {\n",
              "    background-color: var(--disabled-bg-color);\n",
              "    fill: var(--disabled-fill-color);\n",
              "    box-shadow: none;\n",
              "  }\n",
              "\n",
              "  .colab-df-spinner {\n",
              "    border: 2px solid var(--fill-color);\n",
              "    border-color: transparent;\n",
              "    border-bottom-color: var(--fill-color);\n",
              "    animation:\n",
              "      spin 1s steps(1) infinite;\n",
              "  }\n",
              "\n",
              "  @keyframes spin {\n",
              "    0% {\n",
              "      border-color: transparent;\n",
              "      border-bottom-color: var(--fill-color);\n",
              "      border-left-color: var(--fill-color);\n",
              "    }\n",
              "    20% {\n",
              "      border-color: transparent;\n",
              "      border-left-color: var(--fill-color);\n",
              "      border-top-color: var(--fill-color);\n",
              "    }\n",
              "    30% {\n",
              "      border-color: transparent;\n",
              "      border-left-color: var(--fill-color);\n",
              "      border-top-color: var(--fill-color);\n",
              "      border-right-color: var(--fill-color);\n",
              "    }\n",
              "    40% {\n",
              "      border-color: transparent;\n",
              "      border-right-color: var(--fill-color);\n",
              "      border-top-color: var(--fill-color);\n",
              "    }\n",
              "    60% {\n",
              "      border-color: transparent;\n",
              "      border-right-color: var(--fill-color);\n",
              "    }\n",
              "    80% {\n",
              "      border-color: transparent;\n",
              "      border-right-color: var(--fill-color);\n",
              "      border-bottom-color: var(--fill-color);\n",
              "    }\n",
              "    90% {\n",
              "      border-color: transparent;\n",
              "      border-bottom-color: var(--fill-color);\n",
              "    }\n",
              "  }\n",
              "</style>\n",
              "\n",
              "  <script>\n",
              "    async function quickchart(key) {\n",
              "      const quickchartButtonEl =\n",
              "        document.querySelector('#' + key + ' button');\n",
              "      quickchartButtonEl.disabled = true;  // To prevent multiple clicks.\n",
              "      quickchartButtonEl.classList.add('colab-df-spinner');\n",
              "      try {\n",
              "        const charts = await google.colab.kernel.invokeFunction(\n",
              "            'suggestCharts', [key], {});\n",
              "      } catch (error) {\n",
              "        console.error('Error during call to suggestCharts:', error);\n",
              "      }\n",
              "      quickchartButtonEl.classList.remove('colab-df-spinner');\n",
              "      quickchartButtonEl.classList.add('colab-df-quickchart-complete');\n",
              "    }\n",
              "    (() => {\n",
              "      let quickchartButtonEl =\n",
              "        document.querySelector('#df-ced85668-9673-4ef3-ad66-79a4bfead497 button');\n",
              "      quickchartButtonEl.style.display =\n",
              "        google.colab.kernel.accessAllowed ? 'block' : 'none';\n",
              "    })();\n",
              "  </script>\n",
              "</div>\n",
              "    </div>\n",
              "  </div>\n"
            ],
            "application/vnd.google.colaboratory.intrinsic+json": {
              "type": "dataframe",
              "repr_error": "0"
            }
          },
          "metadata": {},
          "execution_count": 32
        }
      ]
    },
    {
      "cell_type": "code",
      "source": [
        "df.sort_values(by='days_on_market', ascending=False).iloc[:1000,:]['manufacturer'].unique()"
      ],
      "metadata": {
        "colab": {
          "base_uri": "https://localhost:8080/"
        },
        "id": "fnnfs-wUZBBz",
        "outputId": "2eca9a9d-ca50-430e-9d28-7049b85e84ab"
      },
      "execution_count": 33,
      "outputs": [
        {
          "output_type": "execute_result",
          "data": {
            "text/plain": [
              "array(['Chrysler', 'Pontiac', 'Toyota', 'Chevrolet', 'GMC', 'Plymouth',\n",
              "       'Lincoln', 'Jaguar', 'Bentley', 'Ferrari', 'Mercury', 'Nissan',\n",
              "       'Ford', 'Dodge', 'Mazda', 'FIAT', 'Hummer', 'Acura', 'Cadillac',\n",
              "       'Volvo', 'Saturn', 'Lotus', 'Hyundai', 'BMW', 'Mercedes-Benz',\n",
              "       'Subaru', 'Land Rover', 'Buick', 'Lexus', 'Kia', 'Porsche', 'RAM',\n",
              "       'Saab', 'Mitsubishi', 'smart', 'Jeep', 'Audi', 'Volkswagen',\n",
              "       'Honda', 'Rolls-Royce', 'Suzuki', 'Oldsmobile', 'Maserati',\n",
              "       'Alfa Romeo', 'Genesis', 'Scion', 'McLaren', 'INFINITI',\n",
              "       'Aston Martin', 'Willys', 'AMC', 'MG', 'Isuzu', 'Pininfarina'],\n",
              "      dtype=object)"
            ]
          },
          "metadata": {},
          "execution_count": 33
        }
      ]
    },
    {
      "cell_type": "code",
      "source": [
        "df.sort_values(by='days_on_market', ascending=False).iloc[-1000:,:]['manufacturer'].unique()"
      ],
      "metadata": {
        "colab": {
          "base_uri": "https://localhost:8080/"
        },
        "id": "xpscf2epZKfb",
        "outputId": "d00ade18-c0ba-4a7a-b1d3-31a427732674"
      },
      "execution_count": 34,
      "outputs": [
        {
          "output_type": "execute_result",
          "data": {
            "text/plain": [
              "array(['Nissan', 'Toyota', 'Lincoln', 'Chevrolet', 'Cadillac', 'Jeep',\n",
              "       'Ford', 'Kia', 'Chrysler', 'Mercedes-Benz', 'Audi', 'Subaru',\n",
              "       'Honda', 'Hyundai', 'Mazda', 'Buick', 'RAM', 'GMC', 'BMW', 'Dodge',\n",
              "       'INFINITI', 'Volkswagen', 'Volvo', 'Lexus', 'Land Rover', 'FIAT',\n",
              "       'Ferrari', 'Maserati', 'Acura', 'Porsche', 'Pontiac', 'Suzuki',\n",
              "       'Genesis', 'Mitsubishi', 'Saturn', 'Scion'], dtype=object)"
            ]
          },
          "metadata": {},
          "execution_count": 34
        }
      ]
    },
    {
      "cell_type": "code",
      "source": [
        "df.sort_values(by='days_on_market', ascending=False).iloc[:1000,:].plot(kind='scatter', x='mileage', y='days_on_market', s=32, alpha=.8, c='days_on_market', cmap='viridis_r')"
      ],
      "metadata": {
        "colab": {
          "base_uri": "https://localhost:8080/",
          "height": 466
        },
        "id": "uIOEDe2rZVLV",
        "outputId": "2f1075ef-4438-4d5a-d9c1-f4bc94a64642"
      },
      "execution_count": 35,
      "outputs": [
        {
          "output_type": "execute_result",
          "data": {
            "text/plain": [
              "<Axes: xlabel='mileage', ylabel='days_on_market'>"
            ]
          },
          "metadata": {},
          "execution_count": 35
        },
        {
          "output_type": "display_data",
          "data": {
            "text/plain": [
              "<Figure size 640x480 with 2 Axes>"
            ],
            "image/png": "[encoded data removed]"
          },
          "metadata": {}
        }
      ]
    },
    {
      "cell_type": "code",
      "source": [
        "df.sort_values(by='days_on_market', ascending=False).iloc[-1000:,:].plot(kind='scatter', x='mileage', y='days_on_market', s=32, alpha=.8, c='days_on_market', cmap='viridis_r')"
      ],
      "metadata": {
        "colab": {
          "base_uri": "https://localhost:8080/",
          "height": 472
        },
        "id": "FCOWEoyqaJQb",
        "outputId": "86fc8e24-7237-47b2-a47d-394a8741c824"
      },
      "execution_count": 36,
      "outputs": [
        {
          "output_type": "execute_result",
          "data": {
            "text/plain": [
              "<Axes: xlabel='mileage', ylabel='days_on_market'>"
            ]
          },
          "metadata": {},
          "execution_count": 36
        },
        {
          "output_type": "display_data",
          "data": {
            "text/plain": [
              "<Figure size 640x480 with 2 Axes>"
            ],
            "image/png": "[encoded data removed]"
          },
          "metadata": {}
        }
      ]
    },
    {
      "cell_type": "code",
      "source": [
        "df.sort_values(by='days_on_market', ascending=False).iloc[:1000,:].plot(kind='scatter', x='has_accidents', y='days_on_market', s=32, alpha=.8, c='days_on_market', cmap='viridis_r')"
      ],
      "metadata": {
        "colab": {
          "base_uri": "https://localhost:8080/",
          "height": 467
        },
        "id": "6QjQQHcpaZB-",
        "outputId": "857f2749-6555-4d79-ea0d-0101f34f0eb1"
      },
      "execution_count": 37,
      "outputs": [
        {
          "output_type": "execute_result",
          "data": {
            "text/plain": [
              "<Axes: xlabel='has_accidents', ylabel='days_on_market'>"
            ]
          },
          "metadata": {},
          "execution_count": 37
        },
        {
          "output_type": "display_data",
          "data": {
            "text/plain": [
              "<Figure size 640x480 with 2 Axes>"
            ],
            "image/png": "[encoded data removed]"
          },
          "metadata": {}
        }
      ]
    },
    {
      "cell_type": "code",
      "source": [
        "df.sort_values(by='days_on_market', ascending=False).iloc[-1000:,:].plot(kind='scatter', x='has_accidents', y='days_on_market', s=32, alpha=.8, c='days_on_market', cmap='viridis_r')"
      ],
      "metadata": {
        "colab": {
          "base_uri": "https://localhost:8080/",
          "height": 472
        },
        "id": "MXYhPw4saiuI",
        "outputId": "ab30b02d-242a-4b2c-f274-007996981f84"
      },
      "execution_count": 38,
      "outputs": [
        {
          "output_type": "execute_result",
          "data": {
            "text/plain": [
              "<Axes: xlabel='has_accidents', ylabel='days_on_market'>"
            ]
          },
          "metadata": {},
          "execution_count": 38
        },
        {
          "output_type": "display_data",
          "data": {
            "text/plain": [
              "<Figure size 640x480 with 2 Axes>"
            ],
            "image/png": "[encoded data removed]"
          },
          "metadata": {}
        }
      ]
    },
    {
      "cell_type": "code",
      "source": [
        "df.sort_values(by='days_on_market', ascending=False).iloc[:1000,:]['price'].mean()"
      ],
      "metadata": {
        "colab": {
          "base_uri": "https://localhost:8080/"
        },
        "id": "0FRuOSyXSxIw",
        "outputId": "37d5d88c-a3de-48d1-9894-006ca65fc1d1"
      },
      "execution_count": 39,
      "outputs": [
        {
          "output_type": "execute_result",
          "data": {
            "text/plain": [
              "29465.937"
            ]
          },
          "metadata": {},
          "execution_count": 39
        }
      ]
    },
    {
      "cell_type": "code",
      "source": [
        "df.sort_values(by='days_on_market', ascending=False).iloc[:1000,:]['price'].plot(kind='hist')"
      ],
      "metadata": {
        "colab": {
          "base_uri": "https://localhost:8080/",
          "height": 465
        },
        "id": "8VzMhaBNMRSB",
        "outputId": "530eb9f7-daba-46f7-9963-3e304c88df2e"
      },
      "execution_count": 40,
      "outputs": [
        {
          "output_type": "execute_result",
          "data": {
            "text/plain": [
              "<Axes: ylabel='Frequency'>"
            ]
          },
          "metadata": {},
          "execution_count": 40
        },
        {
          "output_type": "display_data",
          "data": {
            "text/plain": [
              "<Figure size 640x480 with 1 Axes>"
            ],
            "image/png": "[encoded data removed]"
          },
          "metadata": {}
        }
      ]
    },
    {
      "cell_type": "code",
      "source": [
        "df.sort_values(by='days_on_market', ascending=False).iloc[-1000:,:]['price'].mean()"
      ],
      "metadata": {
        "colab": {
          "base_uri": "https://localhost:8080/"
        },
        "id": "lAg3MjHATZSL",
        "outputId": "deb7fa56-72db-4aa5-8959-86be27611c3a"
      },
      "execution_count": 41,
      "outputs": [
        {
          "output_type": "execute_result",
          "data": {
            "text/plain": [
              "30714.386"
            ]
          },
          "metadata": {},
          "execution_count": 41
        }
      ]
    },
    {
      "cell_type": "code",
      "source": [
        "df.sort_values(by='days_on_market', ascending=False).iloc[-1000:,:]['price'].plot(kind='hist')"
      ],
      "metadata": {
        "colab": {
          "base_uri": "https://localhost:8080/",
          "height": 447
        },
        "id": "TPxC-L2uNUDE",
        "outputId": "62ef8b57-eb3a-4c2b-ee8e-6d9b15122543"
      },
      "execution_count": 42,
      "outputs": [
        {
          "output_type": "execute_result",
          "data": {
            "text/plain": [
              "<Axes: ylabel='Frequency'>"
            ]
          },
          "metadata": {},
          "execution_count": 42
        },
        {
          "output_type": "display_data",
          "data": {
            "text/plain": [
              "<Figure size 640x480 with 1 Axes>"
            ],
            "image/png": "[encoded data removed]"
          },
          "metadata": {}
        }
      ]
    },
    {
      "cell_type": "markdown",
      "source": [
        "## $Q13$"
      ],
      "metadata": {
        "id": "72ryPA4uU0qf"
      }
    },
    {
      "cell_type": "markdown",
      "source": [
        "Sort the months of the year based on the number of sold cars in each month."
      ],
      "metadata": {
        "id": "9kzfUhXYqa6u"
      }
    },
    {
      "cell_type": "code",
      "source": [
        "df['listed_date'] = pd.to_datetime(df['listed_date'])"
      ],
      "metadata": {
        "id": "Hbcarp2LU2vV"
      },
      "execution_count": 43,
      "outputs": []
    },
    {
      "cell_type": "code",
      "source": [
        "df['listed_date'].dt.month.value_counts()"
      ],
      "metadata": {
        "colab": {
          "base_uri": "https://localhost:8080/"
        },
        "id": "uS9w_l0NVCaE",
        "outputId": "81fed827-4a71-4f4c-8f6f-0d9fbe63d0c5"
      },
      "execution_count": 44,
      "outputs": [
        {
          "output_type": "execute_result",
          "data": {
            "text/plain": [
              "8     378244\n",
              "7     180079\n",
              "9     174236\n",
              "6      74081\n",
              "3      39005\n",
              "2      33117\n",
              "5      28548\n",
              "1      24956\n",
              "12     20515\n",
              "4      19109\n",
              "11     15642\n",
              "10     12688\n",
              "Name: listed_date, dtype: int64"
            ]
          },
          "metadata": {},
          "execution_count": 44
        }
      ]
    },
    {
      "cell_type": "code",
      "source": [
        "import calendar\n",
        "\n",
        "month = df['listed_date'].dt.month.value_counts().index.map(lambda x: calendar.month_abbr[x])\n",
        "value = df['listed_date'].dt.month.value_counts().values\n",
        "\n",
        "plt.barh(month, value)\n",
        "plt.title(\"Number of Advertise in each Month\")\n",
        "plt.ylabel('Month')\n",
        "plt.xlabel('Number of Advertise')"
      ],
      "metadata": {
        "colab": {
          "base_uri": "https://localhost:8080/",
          "height": 489
        },
        "id": "3Ox8-k1XWxHw",
        "outputId": "fc1b2565-8a60-4c30-ba55-2ae43d6bfd47"
      },
      "execution_count": 45,
      "outputs": [
        {
          "output_type": "execute_result",
          "data": {
            "text/plain": [
              "Text(0.5, 0, 'Number of Advertise')"
            ]
          },
          "metadata": {},
          "execution_count": 45
        },
        {
          "output_type": "display_data",
          "data": {
            "text/plain": [
              "<Figure size 640x480 with 1 Axes>"
            ],
            "image/png": "[encoded data removed]"
          },
          "metadata": {}
        }
      ]
    },
    {
      "cell_type": "markdown",
      "source": [
        "## $Q14$"
      ],
      "metadata": {
        "id": "zpcYTXt9Zaly"
      }
    },
    {
      "cell_type": "markdown",
      "source": [
        "3 cities where old cars have been advertised more"
      ],
      "metadata": {
        "id": "ZUfZ77rfqzLG"
      }
    },
    {
      "cell_type": "code",
      "source": [
        "df.groupby('city').apply(lambda x:x.sort_values(by='year', ascending=True))"
      ],
      "metadata": {
        "colab": {
          "base_uri": "https://localhost:8080/",
          "height": 597
        },
        "id": "WZbv7y25XPMt",
        "outputId": "e92f9cd6-fbac-4446-d08d-218683ecf254"
      },
      "execution_count": 46,
      "outputs": [
        {
          "output_type": "execute_result",
          "data": {
            "text/plain": [
              "                    Column1  listing_id listed_date         city manufacturer  \\\n",
              "city                                                                            \n",
              "Aberdeen    755746   755746   279340368  2020-08-15     Aberdeen       Toyota   \n",
              "            360487   360487   281624248  2020-09-10     Aberdeen          BMW   \n",
              "            755716   755716   279626285  2020-08-19     Aberdeen         Jeep   \n",
              "            755401   755401   264575796  2020-01-31     Aberdeen         Jeep   \n",
              "            755450   755450   272548540  2020-05-24     Aberdeen         Jeep   \n",
              "...                     ...         ...         ...          ...          ...   \n",
              "Zumbrota    180023   180023   281460052  2020-09-06     Zumbrota         Ford   \n",
              "            163620   163620   272440037  2020-05-23     Zumbrota         Ford   \n",
              "            182010   182010   213880029  2018-07-26     Zumbrota          RAM   \n",
              "marietta    179449   179449   281350050  2020-09-05     marietta    Chevrolet   \n",
              "north hills 154384   154384   274140007  2020-06-16  north hills         Ford   \n",
              "\n",
              "                                 model  year    color  price        body_type  \\\n",
              "city                                                                            \n",
              "Aberdeen    755746               Camry  2004  UNKNOWN   6995            Sedan   \n",
              "            360487                  X3  2005  UNKNOWN   5900  SUV / Crossover   \n",
              "            755716            Wrangler  2008    GREEN  16500  SUV / Crossover   \n",
              "            755401  Wrangler Unlimited  2008    GREEN  17000  SUV / Crossover   \n",
              "            755450  Wrangler Unlimited  2008    GREEN  17200  SUV / Crossover   \n",
              "...                                ...   ...      ...    ...              ...   \n",
              "Zumbrota    180023             Mustang  2003   SILVER   6995      Convertible   \n",
              "            163620               Focus  2017      RED  15000        Hatchback   \n",
              "            182010           ProMaster  2017    WHITE  54888              Van   \n",
              "marietta    179449             Equinox  2006   PURPLE   3500  SUV / Crossover   \n",
              "north hills 154384               F-150  2003    BLACK  11526     Pickup Truck   \n",
              "\n",
              "                    engine_volume_cc  fuel_consumption          fuel_type  \\\n",
              "city                                                                        \n",
              "Aberdeen    755746            3300.0              22.0           Gasoline   \n",
              "            360487            3000.0               NaN           Gasoline   \n",
              "            755716            3800.0              17.0           Gasoline   \n",
              "            755401            3800.0              17.0           Gasoline   \n",
              "            755450            3800.0              17.0           Gasoline   \n",
              "...                              ...               ...                ...   \n",
              "Zumbrota    180023            3800.0              21.0           Gasoline   \n",
              "            163620            2000.0               NaN  Flex Fuel Vehicle   \n",
              "            182010            3600.0               NaN           Gasoline   \n",
              "marietta    179449            3400.0              20.0           Gasoline   \n",
              "north hills 154384            5400.0              13.0           Gasoline   \n",
              "\n",
              "                    is_new maximum_seating   mileage  horsepower transmission  \\\n",
              "city                                                                            \n",
              "Aberdeen    755746       0         5 seats  121006.0       225.0            A   \n",
              "            360487       0         5 seats  185000.0       225.0          NaN   \n",
              "            755716       0         4 seats  122212.0       202.0            A   \n",
              "            755401       0         5 seats  104540.0       205.0            M   \n",
              "            755450       0         5 seats  124385.0       205.0            A   \n",
              "...                    ...             ...       ...         ...          ...   \n",
              "Zumbrota    180023       0         4 seats   65000.0       190.0            A   \n",
              "            163620       0         5 seats   31308.0       160.0            A   \n",
              "            182010       0         3 seats    2200.0       280.0            A   \n",
              "marietta    179449       0         5 seats  133990.0       185.0            A   \n",
              "north hills 154384       0         4 seats  169461.0       380.0            A   \n",
              "\n",
              "                    has_accidents  days_on_market  \n",
              "city                                               \n",
              "Aberdeen    755746            0.0              26  \n",
              "            360487            0.0               0  \n",
              "            755716            0.0              22  \n",
              "            755401            0.0             223  \n",
              "            755450            1.0             109  \n",
              "...                           ...             ...  \n",
              "Zumbrota    180023            0.0              11  \n",
              "            163620            0.0             117  \n",
              "            182010            0.0             784  \n",
              "marietta    179449            1.0               7  \n",
              "north hills 154384            0.0              93  \n",
              "\n",
              "[1000220 rows x 20 columns]"
            ],
            "text/html": [
              "\n",
              "  <div id=\"df-d828cec0-fa21-4ce0-b95e-eac414224dca\" class=\"colab-df-container\">\n",
              "    <div>\n",
              "<style scoped>\n",
              "    .dataframe tbody tr th:only-of-type {\n",
              "        vertical-align: middle;\n",
              "    }\n",
              "\n",
              "    .dataframe tbody tr th {\n",
              "        vertical-align: top;\n",
              "    }\n",
              "\n",
              "    .dataframe thead th {\n",
              "        text-align: right;\n",
              "    }\n",
              "</style>\n",
              "<table border=\"1\" class=\"dataframe\">\n",
              "  <thead>\n",
              "    <tr style=\"text-align: right;\">\n",
              "      <th></th>\n",
              "      <th></th>\n",
              "      <th>Column1</th>\n",
              "      <th>listing_id</th>\n",
              "      <th>listed_date</th>\n",
              "      <th>city</th>\n",
              "      <th>manufacturer</th>\n",
              "      <th>model</th>\n",
              "      <th>year</th>\n",
              "      <th>color</th>\n",
              "      <th>price</th>\n",
              "      <th>body_type</th>\n",
              "      <th>engine_volume_cc</th>\n",
              "      <th>fuel_consumption</th>\n",
              "      <th>fuel_type</th>\n",
              "      <th>is_new</th>\n",
              "      <th>maximum_seating</th>\n",
              "      <th>mileage</th>\n",
              "      <th>horsepower</th>\n",
              "      <th>transmission</th>\n",
              "      <th>has_accidents</th>\n",
              "      <th>days_on_market</th>\n",
              "    </tr>\n",
              "    <tr>\n",
              "      <th>city</th>\n",
              "      <th></th>\n",
              "      <th></th>\n",
              "      <th></th>\n",
              "      <th></th>\n",
              "      <th></th>\n",
              "      <th></th>\n",
              "      <th></th>\n",
              "      <th></th>\n",
              "      <th></th>\n",
              "      <th></th>\n",
              "      <th></th>\n",
              "      <th></th>\n",
              "      <th></th>\n",
              "      <th></th>\n",
              "      <th></th>\n",
              "      <th></th>\n",
              "      <th></th>\n",
              "      <th></th>\n",
              "      <th></th>\n",
              "      <th></th>\n",
              "      <th></th>\n",
              "    </tr>\n",
              "  </thead>\n",
              "  <tbody>\n",
              "    <tr>\n",
              "      <th rowspan=\"5\" valign=\"top\">Aberdeen</th>\n",
              "      <th>755746</th>\n",
              "      <td>755746</td>\n",
              "      <td>279340368</td>\n",
              "      <td>2020-08-15</td>\n",
              "      <td>Aberdeen</td>\n",
              "      <td>Toyota</td>\n",
              "      <td>Camry</td>\n",
              "      <td>2004</td>\n",
              "      <td>UNKNOWN</td>\n",
              "      <td>6995</td>\n",
              "      <td>Sedan</td>\n",
              "      <td>3300.0</td>\n",
              "      <td>22.0</td>\n",
              "      <td>Gasoline</td>\n",
              "      <td>0</td>\n",
              "      <td>5 seats</td>\n",
              "      <td>121006.0</td>\n",
              "      <td>225.0</td>\n",
              "      <td>A</td>\n",
              "      <td>0.0</td>\n",
              "      <td>26</td>\n",
              "    </tr>\n",
              "    <tr>\n",
              "      <th>360487</th>\n",
              "      <td>360487</td>\n",
              "      <td>281624248</td>\n",
              "      <td>2020-09-10</td>\n",
              "      <td>Aberdeen</td>\n",
              "      <td>BMW</td>\n",
              "      <td>X3</td>\n",
              "      <td>2005</td>\n",
              "      <td>UNKNOWN</td>\n",
              "      <td>5900</td>\n",
              "      <td>SUV / Crossover</td>\n",
              "      <td>3000.0</td>\n",
              "      <td>NaN</td>\n",
              "      <td>Gasoline</td>\n",
              "      <td>0</td>\n",
              "      <td>5 seats</td>\n",
              "      <td>185000.0</td>\n",
              "      <td>225.0</td>\n",
              "      <td>NaN</td>\n",
              "      <td>0.0</td>\n",
              "      <td>0</td>\n",
              "    </tr>\n",
              "    <tr>\n",
              "      <th>755716</th>\n",
              "      <td>755716</td>\n",
              "      <td>279626285</td>\n",
              "      <td>2020-08-19</td>\n",
              "      <td>Aberdeen</td>\n",
              "      <td>Jeep</td>\n",
              "      <td>Wrangler</td>\n",
              "      <td>2008</td>\n",
              "      <td>GREEN</td>\n",
              "      <td>16500</td>\n",
              "      <td>SUV / Crossover</td>\n",
              "      <td>3800.0</td>\n",
              "      <td>17.0</td>\n",
              "      <td>Gasoline</td>\n",
              "      <td>0</td>\n",
              "      <td>4 seats</td>\n",
              "      <td>122212.0</td>\n",
              "      <td>202.0</td>\n",
              "      <td>A</td>\n",
              "      <td>0.0</td>\n",
              "      <td>22</td>\n",
              "    </tr>\n",
              "    <tr>\n",
              "      <th>755401</th>\n",
              "      <td>755401</td>\n",
              "      <td>264575796</td>\n",
              "      <td>2020-01-31</td>\n",
              "      <td>Aberdeen</td>\n",
              "      <td>Jeep</td>\n",
              "      <td>Wrangler Unlimited</td>\n",
              "      <td>2008</td>\n",
              "      <td>GREEN</td>\n",
              "      <td>17000</td>\n",
              "      <td>SUV / Crossover</td>\n",
              "      <td>3800.0</td>\n",
              "      <td>17.0</td>\n",
              "      <td>Gasoline</td>\n",
              "      <td>0</td>\n",
              "      <td>5 seats</td>\n",
              "      <td>104540.0</td>\n",
              "      <td>205.0</td>\n",
              "      <td>M</td>\n",
              "      <td>0.0</td>\n",
              "      <td>223</td>\n",
              "    </tr>\n",
              "    <tr>\n",
              "      <th>755450</th>\n",
              "      <td>755450</td>\n",
              "      <td>272548540</td>\n",
              "      <td>2020-05-24</td>\n",
              "      <td>Aberdeen</td>\n",
              "      <td>Jeep</td>\n",
              "      <td>Wrangler Unlimited</td>\n",
              "      <td>2008</td>\n",
              "      <td>GREEN</td>\n",
              "      <td>17200</td>\n",
              "      <td>SUV / Crossover</td>\n",
              "      <td>3800.0</td>\n",
              "      <td>17.0</td>\n",
              "      <td>Gasoline</td>\n",
              "      <td>0</td>\n",
              "      <td>5 seats</td>\n",
              "      <td>124385.0</td>\n",
              "      <td>205.0</td>\n",
              "      <td>A</td>\n",
              "      <td>1.0</td>\n",
              "      <td>109</td>\n",
              "    </tr>\n",
              "    <tr>\n",
              "      <th>...</th>\n",
              "      <th>...</th>\n",
              "      <td>...</td>\n",
              "      <td>...</td>\n",
              "      <td>...</td>\n",
              "      <td>...</td>\n",
              "      <td>...</td>\n",
              "      <td>...</td>\n",
              "      <td>...</td>\n",
              "      <td>...</td>\n",
              "      <td>...</td>\n",
              "      <td>...</td>\n",
              "      <td>...</td>\n",
              "      <td>...</td>\n",
              "      <td>...</td>\n",
              "      <td>...</td>\n",
              "      <td>...</td>\n",
              "      <td>...</td>\n",
              "      <td>...</td>\n",
              "      <td>...</td>\n",
              "      <td>...</td>\n",
              "      <td>...</td>\n",
              "    </tr>\n",
              "    <tr>\n",
              "      <th rowspan=\"3\" valign=\"top\">Zumbrota</th>\n",
              "      <th>180023</th>\n",
              "      <td>180023</td>\n",
              "      <td>281460052</td>\n",
              "      <td>2020-09-06</td>\n",
              "      <td>Zumbrota</td>\n",
              "      <td>Ford</td>\n",
              "      <td>Mustang</td>\n",
              "      <td>2003</td>\n",
              "      <td>SILVER</td>\n",
              "      <td>6995</td>\n",
              "      <td>Convertible</td>\n",
              "      <td>3800.0</td>\n",
              "      <td>21.0</td>\n",
              "      <td>Gasoline</td>\n",
              "      <td>0</td>\n",
              "      <td>4 seats</td>\n",
              "      <td>65000.0</td>\n",
              "      <td>190.0</td>\n",
              "      <td>A</td>\n",
              "      <td>0.0</td>\n",
              "      <td>11</td>\n",
              "    </tr>\n",
              "    <tr>\n",
              "      <th>163620</th>\n",
              "      <td>163620</td>\n",
              "      <td>272440037</td>\n",
              "      <td>2020-05-23</td>\n",
              "      <td>Zumbrota</td>\n",
              "      <td>Ford</td>\n",
              "      <td>Focus</td>\n",
              "      <td>2017</td>\n",
              "      <td>RED</td>\n",
              "      <td>15000</td>\n",
              "      <td>Hatchback</td>\n",
              "      <td>2000.0</td>\n",
              "      <td>NaN</td>\n",
              "      <td>Flex Fuel Vehicle</td>\n",
              "      <td>0</td>\n",
              "      <td>5 seats</td>\n",
              "      <td>31308.0</td>\n",
              "      <td>160.0</td>\n",
              "      <td>A</td>\n",
              "      <td>0.0</td>\n",
              "      <td>117</td>\n",
              "    </tr>\n",
              "    <tr>\n",
              "      <th>182010</th>\n",
              "      <td>182010</td>\n",
              "      <td>213880029</td>\n",
              "      <td>2018-07-26</td>\n",
              "      <td>Zumbrota</td>\n",
              "      <td>RAM</td>\n",
              "      <td>ProMaster</td>\n",
              "      <td>2017</td>\n",
              "      <td>WHITE</td>\n",
              "      <td>54888</td>\n",
              "      <td>Van</td>\n",
              "      <td>3600.0</td>\n",
              "      <td>NaN</td>\n",
              "      <td>Gasoline</td>\n",
              "      <td>0</td>\n",
              "      <td>3 seats</td>\n",
              "      <td>2200.0</td>\n",
              "      <td>280.0</td>\n",
              "      <td>A</td>\n",
              "      <td>0.0</td>\n",
              "      <td>784</td>\n",
              "    </tr>\n",
              "    <tr>\n",
              "      <th>marietta</th>\n",
              "      <th>179449</th>\n",
              "      <td>179449</td>\n",
              "      <td>281350050</td>\n",
              "      <td>2020-09-05</td>\n",
              "      <td>marietta</td>\n",
              "      <td>Chevrolet</td>\n",
              "      <td>Equinox</td>\n",
              "      <td>2006</td>\n",
              "      <td>PURPLE</td>\n",
              "      <td>3500</td>\n",
              "      <td>SUV / Crossover</td>\n",
              "      <td>3400.0</td>\n",
              "      <td>20.0</td>\n",
              "      <td>Gasoline</td>\n",
              "      <td>0</td>\n",
              "      <td>5 seats</td>\n",
              "      <td>133990.0</td>\n",
              "      <td>185.0</td>\n",
              "      <td>A</td>\n",
              "      <td>1.0</td>\n",
              "      <td>7</td>\n",
              "    </tr>\n",
              "    <tr>\n",
              "      <th>north hills</th>\n",
              "      <th>154384</th>\n",
              "      <td>154384</td>\n",
              "      <td>274140007</td>\n",
              "      <td>2020-06-16</td>\n",
              "      <td>north hills</td>\n",
              "      <td>Ford</td>\n",
              "      <td>F-150</td>\n",
              "      <td>2003</td>\n",
              "      <td>BLACK</td>\n",
              "      <td>11526</td>\n",
              "      <td>Pickup Truck</td>\n",
              "      <td>5400.0</td>\n",
              "      <td>13.0</td>\n",
              "      <td>Gasoline</td>\n",
              "      <td>0</td>\n",
              "      <td>4 seats</td>\n",
              "      <td>169461.0</td>\n",
              "      <td>380.0</td>\n",
              "      <td>A</td>\n",
              "      <td>0.0</td>\n",
              "      <td>93</td>\n",
              "    </tr>\n",
              "  </tbody>\n",
              "</table>\n",
              "<p>1000220 rows × 20 columns</p>\n",
              "</div>\n",
              "    <div class=\"colab-df-buttons\">\n",
              "\n",
              "  <div class=\"colab-df-container\">\n",
              "    <button class=\"colab-df-convert\" onclick=\"convertToInteractive('df-d828cec0-fa21-4ce0-b95e-eac414224dca')\"\n",
              "            title=\"Convert this dataframe to an interactive table.\"\n",
              "            style=\"display:none;\">\n",
              "\n",
              "  <svg xmlns=\"http://www.w3.org/2000/svg\" height=\"24px\" viewBox=\"0 -960 960 960\">\n",
              "    <path d=\"M120-120v-720h720v720H120Zm60-500h600v-160H180v160Zm220 220h160v-160H400v160Zm0 220h160v-160H400v160ZM180-400h160v-160H180v160Zm440 0h160v-160H620v160ZM180-180h160v-160H180v160Zm440 0h160v-160H620v160Z\"/>\n",
              "  </svg>\n",
              "    </button>\n",
              "\n",
              "  <style>\n",
              "    .colab-df-container {\n",
              "      display:flex;\n",
              "      gap: 12px;\n",
              "    }\n",
              "\n",
              "    .colab-df-convert {\n",
              "      background-color: #E8F0FE;\n",
              "      border: none;\n",
              "      border-radius: 50%;\n",
              "      cursor: pointer;\n",
              "      display: none;\n",
              "      fill: #1967D2;\n",
              "      height: 32px;\n",
              "      padding: 0 0 0 0;\n",
              "      width: 32px;\n",
              "    }\n",
              "\n",
              "    .colab-df-convert:hover {\n",
              "      background-color: #E2EBFA;\n",
              "      box-shadow: 0px 1px 2px rgba(60, 64, 67, 0.3), 0px 1px 3px 1px rgba(60, 64, 67, 0.15);\n",
              "      fill: #174EA6;\n",
              "    }\n",
              "\n",
              "    .colab-df-buttons div {\n",
              "      margin-bottom: 4px;\n",
              "    }\n",
              "\n",
              "    [theme=dark] .colab-df-convert {\n",
              "      background-color: #3B4455;\n",
              "      fill: #D2E3FC;\n",
              "    }\n",
              "\n",
              "    [theme=dark] .colab-df-convert:hover {\n",
              "      background-color: #434B5C;\n",
              "      box-shadow: 0px 1px 3px 1px rgba(0, 0, 0, 0.15);\n",
              "      filter: drop-shadow(0px 1px 2px rgba(0, 0, 0, 0.3));\n",
              "      fill: #FFFFFF;\n",
              "    }\n",
              "  </style>\n",
              "\n",
              "    <script>\n",
              "      const buttonEl =\n",
              "        document.querySelector('#df-d828cec0-fa21-4ce0-b95e-eac414224dca button.colab-df-convert');\n",
              "      buttonEl.style.display =\n",
              "        google.colab.kernel.accessAllowed ? 'block' : 'none';\n",
              "\n",
              "      async function convertToInteractive(key) {\n",
              "        const element = document.querySelector('#df-d828cec0-fa21-4ce0-b95e-eac414224dca');\n",
              "        const dataTable =\n",
              "          await google.colab.kernel.invokeFunction('convertToInteractive',\n",
              "                                                    [key], {});\n",
              "        if (!dataTable) return;\n",
              "\n",
              "        const docLinkHtml = 'Like what you see? Visit the ' +\n",
              "          '<a target=\"_blank\" href=https://colab.research.google.com/notebooks/data_table.ipynb>data table notebook</a>'\n",
              "          + ' to learn more about interactive tables.';\n",
              "        element.innerHTML = '';\n",
              "        dataTable['output_type'] = 'display_data';\n",
              "        await google.colab.output.renderOutput(dataTable, element);\n",
              "        const docLink = document.createElement('div');\n",
              "        docLink.innerHTML = docLinkHtml;\n",
              "        element.appendChild(docLink);\n",
              "      }\n",
              "    </script>\n",
              "  </div>\n",
              "\n",
              "\n",
              "<div id=\"df-03132997-cb57-48b0-93fa-672087f82d1a\">\n",
              "  <button class=\"colab-df-quickchart\" onclick=\"quickchart('df-03132997-cb57-48b0-93fa-672087f82d1a')\"\n",
              "            title=\"Suggest charts\"\n",
              "            style=\"display:none;\">\n",
              "\n",
              "<svg xmlns=\"http://www.w3.org/2000/svg\" height=\"24px\"viewBox=\"0 0 24 24\"\n",
              "     width=\"24px\">\n",
              "    <g>\n",
              "        <path d=\"M19 3H5c-1.1 0-2 .9-2 2v14c0 1.1.9 2 2 2h14c1.1 0 2-.9 2-2V5c0-1.1-.9-2-2-2zM9 17H7v-7h2v7zm4 0h-2V7h2v10zm4 0h-2v-4h2v4z\"/>\n",
              "    </g>\n",
              "</svg>\n",
              "  </button>\n",
              "\n",
              "<style>\n",
              "  .colab-df-quickchart {\n",
              "      --bg-color: #E8F0FE;\n",
              "      --fill-color: #1967D2;\n",
              "      --hover-bg-color: #E2EBFA;\n",
              "      --hover-fill-color: #174EA6;\n",
              "      --disabled-fill-color: #AAA;\n",
              "      --disabled-bg-color: #DDD;\n",
              "  }\n",
              "\n",
              "  [theme=dark] .colab-df-quickchart {\n",
              "      --bg-color: #3B4455;\n",
              "      --fill-color: #D2E3FC;\n",
              "      --hover-bg-color: #434B5C;\n",
              "      --hover-fill-color: #FFFFFF;\n",
              "      --disabled-bg-color: #3B4455;\n",
              "      --disabled-fill-color: #666;\n",
              "  }\n",
              "\n",
              "  .colab-df-quickchart {\n",
              "    background-color: var(--bg-color);\n",
              "    border: none;\n",
              "    border-radius: 50%;\n",
              "    cursor: pointer;\n",
              "    display: none;\n",
              "    fill: var(--fill-color);\n",
              "    height: 32px;\n",
              "    padding: 0;\n",
              "    width: 32px;\n",
              "  }\n",
              "\n",
              "  .colab-df-quickchart:hover {\n",
              "    background-color: var(--hover-bg-color);\n",
              "    box-shadow: 0 1px 2px rgba(60, 64, 67, 0.3), 0 1px 3px 1px rgba(60, 64, 67, 0.15);\n",
              "    fill: var(--button-hover-fill-color);\n",
              "  }\n",
              "\n",
              "  .colab-df-quickchart-complete:disabled,\n",
              "  .colab-df-quickchart-complete:disabled:hover {\n",
              "    background-color: var(--disabled-bg-color);\n",
              "    fill: var(--disabled-fill-color);\n",
              "    box-shadow: none;\n",
              "  }\n",
              "\n",
              "  .colab-df-spinner {\n",
              "    border: 2px solid var(--fill-color);\n",
              "    border-color: transparent;\n",
              "    border-bottom-color: var(--fill-color);\n",
              "    animation:\n",
              "      spin 1s steps(1) infinite;\n",
              "  }\n",
              "\n",
              "  @keyframes spin {\n",
              "    0% {\n",
              "      border-color: transparent;\n",
              "      border-bottom-color: var(--fill-color);\n",
              "      border-left-color: var(--fill-color);\n",
              "    }\n",
              "    20% {\n",
              "      border-color: transparent;\n",
              "      border-left-color: var(--fill-color);\n",
              "      border-top-color: var(--fill-color);\n",
              "    }\n",
              "    30% {\n",
              "      border-color: transparent;\n",
              "      border-left-color: var(--fill-color);\n",
              "      border-top-color: var(--fill-color);\n",
              "      border-right-color: var(--fill-color);\n",
              "    }\n",
              "    40% {\n",
              "      border-color: transparent;\n",
              "      border-right-color: var(--fill-color);\n",
              "      border-top-color: var(--fill-color);\n",
              "    }\n",
              "    60% {\n",
              "      border-color: transparent;\n",
              "      border-right-color: var(--fill-color);\n",
              "    }\n",
              "    80% {\n",
              "      border-color: transparent;\n",
              "      border-right-color: var(--fill-color);\n",
              "      border-bottom-color: var(--fill-color);\n",
              "    }\n",
              "    90% {\n",
              "      border-color: transparent;\n",
              "      border-bottom-color: var(--fill-color);\n",
              "    }\n",
              "  }\n",
              "</style>\n",
              "\n",
              "  <script>\n",
              "    async function quickchart(key) {\n",
              "      const quickchartButtonEl =\n",
              "        document.querySelector('#' + key + ' button');\n",
              "      quickchartButtonEl.disabled = true;  // To prevent multiple clicks.\n",
              "      quickchartButtonEl.classList.add('colab-df-spinner');\n",
              "      try {\n",
              "        const charts = await google.colab.kernel.invokeFunction(\n",
              "            'suggestCharts', [key], {});\n",
              "      } catch (error) {\n",
              "        console.error('Error during call to suggestCharts:', error);\n",
              "      }\n",
              "      quickchartButtonEl.classList.remove('colab-df-spinner');\n",
              "      quickchartButtonEl.classList.add('colab-df-quickchart-complete');\n",
              "    }\n",
              "    (() => {\n",
              "      let quickchartButtonEl =\n",
              "        document.querySelector('#df-03132997-cb57-48b0-93fa-672087f82d1a button');\n",
              "      quickchartButtonEl.style.display =\n",
              "        google.colab.kernel.accessAllowed ? 'block' : 'none';\n",
              "    })();\n",
              "  </script>\n",
              "</div>\n",
              "    </div>\n",
              "  </div>\n"
            ],
            "application/vnd.google.colaboratory.intrinsic+json": {
              "type": "dataframe"
            }
          },
          "metadata": {},
          "execution_count": 46
        }
      ]
    },
    {
      "cell_type": "markdown",
      "source": [
        "We should set a year as our measurement for old cars:"
      ],
      "metadata": {
        "id": "lw90QSSg_ag6"
      }
    },
    {
      "cell_type": "code",
      "source": [
        "df[df['year'] <= 2000].groupby('city').size().sort_values(ascending=False)"
      ],
      "metadata": {
        "colab": {
          "base_uri": "https://localhost:8080/"
        },
        "id": "CYWULQcz_PsF",
        "outputId": "80b44972-b84c-48dd-fd31-fc1d2b639fb9"
      },
      "execution_count": 47,
      "outputs": [
        {
          "output_type": "execute_result",
          "data": {
            "text/plain": [
              "city\n",
              "Grand Rapids    358\n",
              "Concord         169\n",
              "Mundelein        91\n",
              "Pittsburgh       65\n",
              "Cleveland        65\n",
              "               ... \n",
              "Pearisburg        1\n",
              "Gowanda           1\n",
              "Grand Blanc       1\n",
              "Patchogue         1\n",
              "Abingdon          1\n",
              "Length: 1024, dtype: int64"
            ]
          },
          "metadata": {},
          "execution_count": 47
        }
      ]
    },
    {
      "cell_type": "markdown",
      "source": [
        "## $Q15$"
      ],
      "metadata": {
        "id": "SPClDafKc5rI"
      }
    },
    {
      "cell_type": "markdown",
      "source": [
        "The brand with the most accident"
      ],
      "metadata": {
        "id": "hRvNfjATrNpF"
      }
    },
    {
      "cell_type": "code",
      "source": [
        "df.loc[df['has_accidents'] == 1.0,:]['manufacturer'].value_counts()"
      ],
      "metadata": {
        "colab": {
          "base_uri": "https://localhost:8080/"
        },
        "id": "yF_A6k2naOhZ",
        "outputId": "8d33e0f7-2426-4541-f5ee-5c63bc108ea0"
      },
      "execution_count": 48,
      "outputs": [
        {
          "output_type": "execute_result",
          "data": {
            "text/plain": [
              "Ford             10498\n",
              "Chevrolet         9567\n",
              "Toyota            8004\n",
              "Honda             7571\n",
              "Nissan            6548\n",
              "Jeep              5149\n",
              "Hyundai           3682\n",
              "Dodge             3043\n",
              "Subaru            3014\n",
              "Kia               2881\n",
              "GMC               2572\n",
              "BMW               2564\n",
              "Volkswagen        2358\n",
              "Mercedes-Benz     2273\n",
              "Lexus             1726\n",
              "Mazda             1571\n",
              "Chrysler          1522\n",
              "Audi              1448\n",
              "Buick             1326\n",
              "Cadillac          1311\n",
              "Acura             1280\n",
              "RAM               1234\n",
              "INFINITI          1001\n",
              "Lincoln            898\n",
              "Volvo              616\n",
              "Mitsubishi         440\n",
              "Land Rover         416\n",
              "Porsche            339\n",
              "MINI               300\n",
              "Pontiac            289\n",
              "Scion              237\n",
              "Jaguar             186\n",
              "Mercury            169\n",
              "Saturn             161\n",
              "FIAT               111\n",
              "Maserati           107\n",
              "Hummer             103\n",
              "Saab                52\n",
              "Suzuki              51\n",
              "Genesis             49\n",
              "Tesla               46\n",
              "Alfa Romeo          45\n",
              "Bentley             41\n",
              "smart               29\n",
              "Ferrari             19\n",
              "Oldsmobile          17\n",
              "Rolls-Royce         13\n",
              "Aston Martin        10\n",
              "Lamborghini          9\n",
              "Isuzu                9\n",
              "Freightliner         7\n",
              "Fisker               4\n",
              "Maybach              2\n",
              "McLaren              2\n",
              "Plymouth             2\n",
              "AM General           1\n",
              "VPG                  1\n",
              "Lotus                1\n",
              "Name: manufacturer, dtype: int64"
            ]
          },
          "metadata": {},
          "execution_count": 48
        }
      ]
    },
    {
      "cell_type": "markdown",
      "source": [
        "## $Q16$"
      ],
      "metadata": {
        "id": "C7woCDrReGX6"
      }
    },
    {
      "cell_type": "markdown",
      "source": [
        "Can we conclude that cars in the last 10 years have fewer seats than before?"
      ],
      "metadata": {
        "id": "Dgv9gs3mrkCF"
      }
    },
    {
      "cell_type": "code",
      "source": [
        "df['maximum_seating'].unique()"
      ],
      "metadata": {
        "colab": {
          "base_uri": "https://localhost:8080/"
        },
        "id": "RM8ruNAveoKQ",
        "outputId": "7632fab5-3020-4eda-821c-cc1850e55a2d"
      },
      "execution_count": 49,
      "outputs": [
        {
          "output_type": "execute_result",
          "data": {
            "text/plain": [
              "array(['5 seats', '7 seats', '2 seats', '4 seats', '8 seats', nan,\n",
              "       '6 seats', '9 seats', '3 seats', '--', '15 seats', '12 seats',\n",
              "       '10 seats'], dtype=object)"
            ]
          },
          "metadata": {},
          "execution_count": 49
        }
      ]
    },
    {
      "cell_type": "code",
      "source": [
        "import re\n",
        "\n",
        "def find_seat(x):\n",
        "  find = re.findall(r'\\d+\\.?\\d*', x)\n",
        "  if find:\n",
        "    return int(find[0])\n",
        "  else:\n",
        "    return 0"
      ],
      "metadata": {
        "id": "vq29vsgCetxj"
      },
      "execution_count": 50,
      "outputs": []
    },
    {
      "cell_type": "code",
      "source": [
        "df.loc[(df['maximum_seating'].isnull() == False) & (current_year - df['year'] <= 10)]['maximum_seating'].apply(find_seat).value_counts()"
      ],
      "metadata": {
        "colab": {
          "base_uri": "https://localhost:8080/"
        },
        "id": "Fh7VqNH9fkUo",
        "outputId": "23a625ba-bc3d-4622-8bd2-dcddda7e5a12"
      },
      "execution_count": 51,
      "outputs": [
        {
          "output_type": "execute_result",
          "data": {
            "text/plain": [
              "5     579082\n",
              "7      88686\n",
              "6      77429\n",
              "8      53900\n",
              "4      17663\n",
              "3       9783\n",
              "2       9588\n",
              "15      1618\n",
              "12       509\n",
              "9        437\n",
              "10       210\n",
              "0        150\n",
              "Name: maximum_seating, dtype: int64"
            ]
          },
          "metadata": {},
          "execution_count": 51
        }
      ]
    },
    {
      "cell_type": "code",
      "source": [
        "seat = df.loc[(df['maximum_seating'].isnull() == False) & (current_year - df['year'] <= 10)]['maximum_seating'].apply(find_seat).value_counts()\n",
        "plt.bar(seat.index, seat.values)\n",
        "plt.title(\"Number of Advertise Based on Maximum Seating during the last 10 years\")\n",
        "plt.xlabel('Maximux Seating')\n",
        "plt.ylabel('Number of Advertise')"
      ],
      "metadata": {
        "colab": {
          "base_uri": "https://localhost:8080/",
          "height": 489
        },
        "id": "c6EIr7DJfn0c",
        "outputId": "1e458c6c-3785-4b34-b499-23d0dfcde44b"
      },
      "execution_count": 52,
      "outputs": [
        {
          "output_type": "execute_result",
          "data": {
            "text/plain": [
              "Text(0, 0.5, 'Number of Advertise')"
            ]
          },
          "metadata": {},
          "execution_count": 52
        },
        {
          "output_type": "display_data",
          "data": {
            "text/plain": [
              "<Figure size 640x480 with 1 Axes>"
            ],
            "image/png": "[encoded data removed]"
          },
          "metadata": {}
        }
      ]
    },
    {
      "cell_type": "markdown",
      "source": [
        "## $Q17$"
      ],
      "metadata": {
        "id": "NjVdeBMgiEtc"
      }
    },
    {
      "cell_type": "markdown",
      "source": [
        "Car body type distribution in 5 largest US cities"
      ],
      "metadata": {
        "id": "DXNhYH0Zr0vq"
      }
    },
    {
      "cell_type": "code",
      "source": [
        "df['city'].unique()"
      ],
      "metadata": {
        "colab": {
          "base_uri": "https://localhost:8080/"
        },
        "id": "qzjsvnArif6V",
        "outputId": "ba7f44fa-a7fd-4c12-cb7c-7220d8eda51f"
      },
      "execution_count": 53,
      "outputs": [
        {
          "output_type": "execute_result",
          "data": {
            "text/plain": [
              "array(['Bayamon', 'San Juan', 'Guaynabo', ..., 'New Vienna', 'Urbancrest',\n",
              "       'Cheboygan'], dtype=object)"
            ]
          },
          "metadata": {},
          "execution_count": 53
        }
      ]
    },
    {
      "cell_type": "code",
      "source": [
        "us_large_cities = ['New York', 'Los Angeles', 'Chicago', 'Houston', 'Phoenix']\n",
        "df[df['city'].isin(us_large_cities)].groupby('city').apply(lambda x:x['body_type'].value_counts())"
      ],
      "metadata": {
        "colab": {
          "base_uri": "https://localhost:8080/"
        },
        "id": "G5kcpSITh6SC",
        "outputId": "c1a9bc31-d4e6-42a7-e45c-69701531019b"
      },
      "execution_count": 54,
      "outputs": [
        {
          "output_type": "execute_result",
          "data": {
            "text/plain": [
              "city                        \n",
              "Chicago      SUV / Crossover    4699\n",
              "             Sedan              2690\n",
              "             Hatchback           323\n",
              "             Minivan             301\n",
              "             Pickup Truck        284\n",
              "             Van                 207\n",
              "             Coupe               156\n",
              "             Wagon               118\n",
              "             Convertible          47\n",
              "Houston      SUV / Crossover      82\n",
              "             Sedan                66\n",
              "             Pickup Truck         17\n",
              "             Coupe                11\n",
              "             Minivan              10\n",
              "             Convertible           5\n",
              "             Hatchback             4\n",
              "             Wagon                 2\n",
              "             Van                   1\n",
              "Los Angeles  Sedan                 6\n",
              "             SUV / Crossover       4\n",
              "             Hatchback             2\n",
              "             Coupe                 1\n",
              "             Wagon                 1\n",
              "New York     SUV / Crossover     674\n",
              "             Sedan               271\n",
              "             Coupe                37\n",
              "             Convertible          32\n",
              "             Wagon                28\n",
              "             Hatchback            20\n",
              "             Van                   1\n",
              "Phoenix      SUV / Crossover      97\n",
              "             Pickup Truck         41\n",
              "             Sedan                33\n",
              "             Hatchback             3\n",
              "             Coupe                 2\n",
              "             Convertible           2\n",
              "             Minivan               2\n",
              "             Van                   2\n",
              "             Wagon                 1\n",
              "Name: body_type, dtype: int64"
            ]
          },
          "metadata": {},
          "execution_count": 54
        }
      ]
    }
  ]
}